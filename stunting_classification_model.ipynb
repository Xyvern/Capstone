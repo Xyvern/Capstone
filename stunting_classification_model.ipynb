{
 "cells": [
  {
   "cell_type": "markdown",
   "metadata": {},
   "source": [
    "# STUNTING CLASSIFICATION MODEL\n"
   ]
  },
  {
   "cell_type": "markdown",
   "metadata": {},
   "source": [
    "## Install Dependencies"
   ]
  },
  {
   "cell_type": "code",
   "execution_count": null,
   "metadata": {},
   "outputs": [],
   "source": [
    "%pip install numpy\n",
    "%pip install pandas\n",
    "%pip install matplotlib\n",
    "%pip install tensorflow\n",
    "%pip install tensorflowjs"
   ]
  },
  {
   "cell_type": "markdown",
   "metadata": {},
   "source": [
    "## Import Necessary Libraries"
   ]
  },
  {
   "cell_type": "code",
   "execution_count": null,
   "metadata": {},
   "outputs": [],
   "source": [
    "import os\n",
    "import numpy as np\n",
    "import pandas as pd\n",
    "import matplotlib.pyplot as plt\n",
    "import tensorflow as tf\n",
    "from IPython.display import clear_output"
   ]
  },
  {
   "cell_type": "markdown",
   "metadata": {},
   "source": [
    "## Load Datasets"
   ]
  },
  {
   "cell_type": "code",
   "execution_count": 2,
   "metadata": {},
   "outputs": [
    {
     "name": "stdout",
     "output_type": "stream",
     "text": [
      "   Umur (bulan) Jenis Kelamin  Tinggi Badan (cm) Status Gizi\n",
      "0             7     laki-laki               75.2      normal\n",
      "1            39     perempuan               98.8      normal\n",
      "2            53     perempuan              103.2      normal\n",
      "3            38     laki-laki               94.8      normal\n",
      "4            26     laki-laki               83.3      normal\n",
      "   Umur (bulan) Jenis Kelamin  Tinggi Badan (cm) Status Gizi\n",
      "0            34     laki-laki               94.4      normal\n",
      "1            39     laki-laki               91.9      normal\n",
      "2            21     perempuan               88.1      normal\n",
      "3             3     perempuan               55.8      normal\n",
      "4            18     laki-laki               91.1      tinggi\n",
      "   Umur (bulan) Jenis Kelamin  Tinggi Badan (cm)       Status Gizi\n",
      "0            19     perempuan               77.1            normal\n",
      "1            35     laki-laki               95.9            normal\n",
      "2            30     laki-laki               99.0            normal\n",
      "3            23     perempuan               71.3  severely stunted\n",
      "4            26     laki-laki               83.7            normal\n"
     ]
    }
   ],
   "source": [
    "# Variable\n",
    "folderName = \"StuntingClassificationDataset\"\n",
    "trainFileName = \"train.csv\"\n",
    "testFileName = \"test.csv\"\n",
    "validationFileName = \"val.csv\"\n",
    "\n",
    "# Do not change\n",
    "train_path = os.path.join(os.getcwd(), 'data', folderName, trainFileName)\n",
    "train = pd.read_csv(train_path, header=0)\n",
    "\n",
    "test_path = os.path.join(os.getcwd(), 'data', folderName, testFileName)\n",
    "test = pd.read_csv(test_path, header=0)\n",
    "\n",
    "val_path = os.path.join(os.getcwd(), 'data', folderName, validationFileName)\n",
    "validation = pd.read_csv(val_path, header=0)\n",
    "\n",
    "print(train.head())\n",
    "print(test.head())\n",
    "print(validation.head())"
   ]
  },
  {
   "cell_type": "markdown",
   "metadata": {},
   "source": [
    "## Convert Categorical Column Into One-Hot Encoding"
   ]
  },
  {
   "cell_type": "code",
   "execution_count": 3,
   "metadata": {},
   "outputs": [
    {
     "name": "stdout",
     "output_type": "stream",
     "text": [
      "   Umur (bulan)  Jenis Kelamin  Tinggi Badan (cm)  Status Gizi\n",
      "0             7              0               75.2            2\n",
      "1            39              1               98.8            2\n",
      "2            53              1              103.2            2\n",
      "3            38              0               94.8            2\n",
      "4            26              0               83.3            2\n",
      "   Umur (bulan)  Jenis Kelamin  Tinggi Badan (cm)  Status Gizi\n",
      "0            34              0               94.4            2\n",
      "1            39              0               91.9            2\n",
      "2            21              1               88.1            2\n",
      "3             3              1               55.8            2\n",
      "4            18              0               91.1            3\n",
      "   Umur (bulan)  Jenis Kelamin  Tinggi Badan (cm)  Status Gizi\n",
      "0            19              1               77.1            2\n",
      "1            35              0               95.9            2\n",
      "2            30              0               99.0            2\n",
      "3            23              1               71.3            0\n",
      "4            26              0               83.7            2\n"
     ]
    }
   ],
   "source": [
    "# Do not change\n",
    "train['Jenis Kelamin'] = train['Jenis Kelamin'].map({'laki-laki': 0, 'perempuan': 1})\n",
    "train['Status Gizi'] = train['Status Gizi'].map({'severely stunted': 0, 'stunted': 1, 'normal': 2, 'tinggi': 3})\n",
    "\n",
    "test['Jenis Kelamin'] = test['Jenis Kelamin'].map({'laki-laki': 0, 'perempuan': 1})\n",
    "test['Status Gizi'] = test['Status Gizi'].map({'severely stunted': 0, 'stunted': 1, 'normal': 2, 'tinggi': 3})\n",
    "\n",
    "validation['Jenis Kelamin'] = validation['Jenis Kelamin'].map({'laki-laki': 0, 'perempuan': 1})\n",
    "validation['Status Gizi'] = validation['Status Gizi'].map({'severely stunted': 0, 'stunted': 1, 'normal': 2, 'tinggi': 3})\n",
    "\n",
    "print(train.head())\n",
    "print(test.head())\n",
    "print(validation.head())"
   ]
  },
  {
   "cell_type": "markdown",
   "metadata": {},
   "source": [
    "## Split The Dataset Into Features And Label"
   ]
  },
  {
   "cell_type": "code",
   "execution_count": 4,
   "metadata": {},
   "outputs": [],
   "source": [
    "# Do not change\n",
    "xtrain = train[['Umur (bulan)', 'Jenis Kelamin','Tinggi Badan (cm)']].values\n",
    "ytrain = train['Status Gizi'].values\n",
    "\n",
    "xtest = test[['Umur (bulan)', 'Jenis Kelamin','Tinggi Badan (cm)']].values\n",
    "ytest = test['Status Gizi'].values\n",
    "\n",
    "xval = validation[['Umur (bulan)', 'Jenis Kelamin','Tinggi Badan (cm)']].values\n",
    "yval = validation['Status Gizi'].values"
   ]
  },
  {
   "cell_type": "markdown",
   "metadata": {},
   "source": [
    "> ## Architechture Options\n",
    ">\n",
    "> Available Layer Options (https://www.tensorflow.org/api_docs/python/tf/keras/layers)\n",
    ">\n",
    "> Available Optimizer Options (https://www.tensorflow.org/api_docs/python/tf/keras/optimizers)\n",
    ">\n",
    "> Available Losses Options (https://www.tensorflow.org/api_docs/python/tf/keras/losses)\n",
    ">\n",
    "> Available Metrics (https://www.tensorflow.org/api_docs/python/tf/keras/metrics)"
   ]
  },
  {
   "cell_type": "markdown",
   "metadata": {},
   "source": [
    "## Make The Model"
   ]
  },
  {
   "cell_type": "code",
   "execution_count": 5,
   "metadata": {},
   "outputs": [
    {
     "data": {
      "text/html": [
       "<pre style=\"white-space:pre;overflow-x:auto;line-height:normal;font-family:Menlo,'DejaVu Sans Mono',consolas,'Courier New',monospace\"><span style=\"font-weight: bold\">Model: \"sequential\"</span>\n",
       "</pre>\n"
      ],
      "text/plain": [
       "\u001b[1mModel: \"sequential\"\u001b[0m\n"
      ]
     },
     "metadata": {},
     "output_type": "display_data"
    },
    {
     "data": {
      "text/html": [
       "<pre style=\"white-space:pre;overflow-x:auto;line-height:normal;font-family:Menlo,'DejaVu Sans Mono',consolas,'Courier New',monospace\">┏━━━━━━━━━━━━━━━━━━━━━━━━━━━━━━━━━┳━━━━━━━━━━━━━━━━━━━━━━━━┳━━━━━━━━━━━━━━━┓\n",
       "┃<span style=\"font-weight: bold\"> Layer (type)                    </span>┃<span style=\"font-weight: bold\"> Output Shape           </span>┃<span style=\"font-weight: bold\">       Param # </span>┃\n",
       "┡━━━━━━━━━━━━━━━━━━━━━━━━━━━━━━━━━╇━━━━━━━━━━━━━━━━━━━━━━━━╇━━━━━━━━━━━━━━━┩\n",
       "│ dense (<span style=\"color: #0087ff; text-decoration-color: #0087ff\">Dense</span>)                   │ (<span style=\"color: #00d7ff; text-decoration-color: #00d7ff\">None</span>, <span style=\"color: #00af00; text-decoration-color: #00af00\">32</span>)             │           <span style=\"color: #00af00; text-decoration-color: #00af00\">128</span> │\n",
       "├─────────────────────────────────┼────────────────────────┼───────────────┤\n",
       "│ dense_1 (<span style=\"color: #0087ff; text-decoration-color: #0087ff\">Dense</span>)                 │ (<span style=\"color: #00d7ff; text-decoration-color: #00d7ff\">None</span>, <span style=\"color: #00af00; text-decoration-color: #00af00\">8</span>)              │           <span style=\"color: #00af00; text-decoration-color: #00af00\">264</span> │\n",
       "├─────────────────────────────────┼────────────────────────┼───────────────┤\n",
       "│ dense_2 (<span style=\"color: #0087ff; text-decoration-color: #0087ff\">Dense</span>)                 │ (<span style=\"color: #00d7ff; text-decoration-color: #00d7ff\">None</span>, <span style=\"color: #00af00; text-decoration-color: #00af00\">4</span>)              │            <span style=\"color: #00af00; text-decoration-color: #00af00\">36</span> │\n",
       "└─────────────────────────────────┴────────────────────────┴───────────────┘\n",
       "</pre>\n"
      ],
      "text/plain": [
       "┏━━━━━━━━━━━━━━━━━━━━━━━━━━━━━━━━━┳━━━━━━━━━━━━━━━━━━━━━━━━┳━━━━━━━━━━━━━━━┓\n",
       "┃\u001b[1m \u001b[0m\u001b[1mLayer (type)                   \u001b[0m\u001b[1m \u001b[0m┃\u001b[1m \u001b[0m\u001b[1mOutput Shape          \u001b[0m\u001b[1m \u001b[0m┃\u001b[1m \u001b[0m\u001b[1m      Param #\u001b[0m\u001b[1m \u001b[0m┃\n",
       "┡━━━━━━━━━━━━━━━━━━━━━━━━━━━━━━━━━╇━━━━━━━━━━━━━━━━━━━━━━━━╇━━━━━━━━━━━━━━━┩\n",
       "│ dense (\u001b[38;5;33mDense\u001b[0m)                   │ (\u001b[38;5;45mNone\u001b[0m, \u001b[38;5;34m32\u001b[0m)             │           \u001b[38;5;34m128\u001b[0m │\n",
       "├─────────────────────────────────┼────────────────────────┼───────────────┤\n",
       "│ dense_1 (\u001b[38;5;33mDense\u001b[0m)                 │ (\u001b[38;5;45mNone\u001b[0m, \u001b[38;5;34m8\u001b[0m)              │           \u001b[38;5;34m264\u001b[0m │\n",
       "├─────────────────────────────────┼────────────────────────┼───────────────┤\n",
       "│ dense_2 (\u001b[38;5;33mDense\u001b[0m)                 │ (\u001b[38;5;45mNone\u001b[0m, \u001b[38;5;34m4\u001b[0m)              │            \u001b[38;5;34m36\u001b[0m │\n",
       "└─────────────────────────────────┴────────────────────────┴───────────────┘\n"
      ]
     },
     "metadata": {},
     "output_type": "display_data"
    },
    {
     "data": {
      "text/html": [
       "<pre style=\"white-space:pre;overflow-x:auto;line-height:normal;font-family:Menlo,'DejaVu Sans Mono',consolas,'Courier New',monospace\"><span style=\"font-weight: bold\"> Total params: </span><span style=\"color: #00af00; text-decoration-color: #00af00\">428</span> (1.67 KB)\n",
       "</pre>\n"
      ],
      "text/plain": [
       "\u001b[1m Total params: \u001b[0m\u001b[38;5;34m428\u001b[0m (1.67 KB)\n"
      ]
     },
     "metadata": {},
     "output_type": "display_data"
    },
    {
     "data": {
      "text/html": [
       "<pre style=\"white-space:pre;overflow-x:auto;line-height:normal;font-family:Menlo,'DejaVu Sans Mono',consolas,'Courier New',monospace\"><span style=\"font-weight: bold\"> Trainable params: </span><span style=\"color: #00af00; text-decoration-color: #00af00\">428</span> (1.67 KB)\n",
       "</pre>\n"
      ],
      "text/plain": [
       "\u001b[1m Trainable params: \u001b[0m\u001b[38;5;34m428\u001b[0m (1.67 KB)\n"
      ]
     },
     "metadata": {},
     "output_type": "display_data"
    },
    {
     "data": {
      "text/html": [
       "<pre style=\"white-space:pre;overflow-x:auto;line-height:normal;font-family:Menlo,'DejaVu Sans Mono',consolas,'Courier New',monospace\"><span style=\"font-weight: bold\"> Non-trainable params: </span><span style=\"color: #00af00; text-decoration-color: #00af00\">0</span> (0.00 B)\n",
       "</pre>\n"
      ],
      "text/plain": [
       "\u001b[1m Non-trainable params: \u001b[0m\u001b[38;5;34m0\u001b[0m (0.00 B)\n"
      ]
     },
     "metadata": {},
     "output_type": "display_data"
    }
   ],
   "source": [
    "# Do not change\n",
    "optimizer = 'adam'\n",
    "loss = tf.keras.losses.SparseCategoricalCrossentropy()\n",
    "metrics = ['accuracy']\n",
    "\n",
    "model = tf.keras.Sequential([\n",
    "    tf.keras.Input(shape=(3,)),\n",
    "    tf.keras.layers.Dense(units=32, activation=\"relu\"),\n",
    "    tf.keras.layers.Dense(units=8, activation=\"relu\"),\n",
    "    tf.keras.layers.Dense(units=4, activation=\"softmax\")\n",
    "])\n",
    "model.compile(\n",
    "    optimizer=optimizer,\n",
    "    loss=loss,\n",
    "    metrics=metrics\n",
    ")\n",
    "model.summary()"
   ]
  },
  {
   "cell_type": "markdown",
   "metadata": {},
   "source": [
    "## Train The Model"
   ]
  },
  {
   "cell_type": "code",
   "execution_count": 7,
   "metadata": {},
   "outputs": [
    {
     "name": "stdout",
     "output_type": "stream",
     "text": [
      "Epoch 1/100\n",
      "\u001b[1m3419/3419\u001b[0m \u001b[32m━━━━━━━━━━━━━━━━━━━━\u001b[0m\u001b[37m\u001b[0m \u001b[1m4s\u001b[0m 933us/step - accuracy: 0.3398 - loss: 2.9031 - val_accuracy: 0.1036 - val_loss: 1.6846\n",
      "Epoch 2/100\n",
      "\u001b[1m3419/3419\u001b[0m \u001b[32m━━━━━━━━━━━━━━━━━━━━\u001b[0m\u001b[37m\u001b[0m \u001b[1m3s\u001b[0m 859us/step - accuracy: 0.5502 - loss: 1.0148 - val_accuracy: 0.5336 - val_loss: 0.8975\n",
      "Epoch 3/100\n",
      "\u001b[1m3419/3419\u001b[0m \u001b[32m━━━━━━━━━━━━━━━━━━━━\u001b[0m\u001b[37m\u001b[0m \u001b[1m3s\u001b[0m 847us/step - accuracy: 0.7702 - loss: 0.6251 - val_accuracy: 0.7544 - val_loss: 0.5323\n",
      "Epoch 4/100\n",
      "\u001b[1m3419/3419\u001b[0m \u001b[32m━━━━━━━━━━━━━━━━━━━━\u001b[0m\u001b[37m\u001b[0m \u001b[1m3s\u001b[0m 872us/step - accuracy: 0.8554 - loss: 0.4545 - val_accuracy: 0.8186 - val_loss: 0.4142\n",
      "Epoch 5/100\n",
      "\u001b[1m3419/3419\u001b[0m \u001b[32m━━━━━━━━━━━━━━━━━━━━\u001b[0m\u001b[37m\u001b[0m \u001b[1m3s\u001b[0m 834us/step - accuracy: 0.8839 - loss: 0.3584 - val_accuracy: 0.8910 - val_loss: 0.2799\n",
      "Epoch 6/100\n",
      "\u001b[1m3419/3419\u001b[0m \u001b[32m━━━━━━━━━━━━━━━━━━━━\u001b[0m\u001b[37m\u001b[0m \u001b[1m3s\u001b[0m 833us/step - accuracy: 0.8996 - loss: 0.3019 - val_accuracy: 0.8538 - val_loss: 0.3061\n",
      "Epoch 7/100\n",
      "\u001b[1m3419/3419\u001b[0m \u001b[32m━━━━━━━━━━━━━━━━━━━━\u001b[0m\u001b[37m\u001b[0m \u001b[1m3s\u001b[0m 966us/step - accuracy: 0.9080 - loss: 0.2681 - val_accuracy: 0.8473 - val_loss: 0.2876\n",
      "Epoch 8/100\n",
      "\u001b[1m3419/3419\u001b[0m \u001b[32m━━━━━━━━━━━━━━━━━━━━\u001b[0m\u001b[37m\u001b[0m \u001b[1m3s\u001b[0m 1ms/step - accuracy: 0.9043 - loss: 0.2580 - val_accuracy: 0.8715 - val_loss: 0.2493\n",
      "Epoch 9/100\n",
      "\u001b[1m3419/3419\u001b[0m \u001b[32m━━━━━━━━━━━━━━━━━━━━\u001b[0m\u001b[37m\u001b[0m \u001b[1m3s\u001b[0m 978us/step - accuracy: 0.9220 - loss: 0.2211 - val_accuracy: 0.9123 - val_loss: 0.1946\n",
      "Epoch 10/100\n",
      "\u001b[1m3419/3419\u001b[0m \u001b[32m━━━━━━━━━━━━━━━━━━━━\u001b[0m\u001b[37m\u001b[0m \u001b[1m3s\u001b[0m 980us/step - accuracy: 0.9174 - loss: 0.2198 - val_accuracy: 0.8571 - val_loss: 0.3253\n",
      "Epoch 11/100\n",
      "\u001b[1m3419/3419\u001b[0m \u001b[32m━━━━━━━━━━━━━━━━━━━━\u001b[0m\u001b[37m\u001b[0m \u001b[1m3s\u001b[0m 908us/step - accuracy: 0.9202 - loss: 0.2095 - val_accuracy: 0.8565 - val_loss: 0.2988\n",
      "Epoch 12/100\n",
      "\u001b[1m3419/3419\u001b[0m \u001b[32m━━━━━━━━━━━━━━━━━━━━\u001b[0m\u001b[37m\u001b[0m \u001b[1m3s\u001b[0m 872us/step - accuracy: 0.9279 - loss: 0.1899 - val_accuracy: 0.8333 - val_loss: 0.3134\n",
      "Epoch 13/100\n",
      "\u001b[1m3419/3419\u001b[0m \u001b[32m━━━━━━━━━━━━━━━━━━━━\u001b[0m\u001b[37m\u001b[0m \u001b[1m3s\u001b[0m 934us/step - accuracy: 0.9305 - loss: 0.1796 - val_accuracy: 0.8953 - val_loss: 0.2369\n",
      "Epoch 14/100\n",
      "\u001b[1m3419/3419\u001b[0m \u001b[32m━━━━━━━━━━━━━━━━━━━━\u001b[0m\u001b[37m\u001b[0m \u001b[1m3s\u001b[0m 960us/step - accuracy: 0.9343 - loss: 0.1740 - val_accuracy: 0.8987 - val_loss: 0.1918\n",
      "Epoch 15/100\n",
      "\u001b[1m3419/3419\u001b[0m \u001b[32m━━━━━━━━━━━━━━━━━━━━\u001b[0m\u001b[37m\u001b[0m \u001b[1m3s\u001b[0m 953us/step - accuracy: 0.9300 - loss: 0.1808 - val_accuracy: 0.9230 - val_loss: 0.1610\n",
      "Epoch 16/100\n",
      "\u001b[1m3419/3419\u001b[0m \u001b[32m━━━━━━━━━━━━━━━━━━━━\u001b[0m\u001b[37m\u001b[0m \u001b[1m3s\u001b[0m 858us/step - accuracy: 0.9348 - loss: 0.1650 - val_accuracy: 0.9455 - val_loss: 0.1213\n",
      "Epoch 17/100\n",
      "\u001b[1m3419/3419\u001b[0m \u001b[32m━━━━━━━━━━━━━━━━━━━━\u001b[0m\u001b[37m\u001b[0m \u001b[1m3s\u001b[0m 900us/step - accuracy: 0.9346 - loss: 0.1680 - val_accuracy: 0.9326 - val_loss: 0.1469\n",
      "Epoch 18/100\n",
      "\u001b[1m3419/3419\u001b[0m \u001b[32m━━━━━━━━━━━━━━━━━━━━\u001b[0m\u001b[37m\u001b[0m \u001b[1m3s\u001b[0m 826us/step - accuracy: 0.9347 - loss: 0.1681 - val_accuracy: 0.9231 - val_loss: 0.1652\n",
      "Epoch 19/100\n",
      "\u001b[1m3419/3419\u001b[0m \u001b[32m━━━━━━━━━━━━━━━━━━━━\u001b[0m\u001b[37m\u001b[0m \u001b[1m3s\u001b[0m 849us/step - accuracy: 0.9410 - loss: 0.1550 - val_accuracy: 0.8643 - val_loss: 0.3206\n",
      "Epoch 20/100\n",
      "\u001b[1m3419/3419\u001b[0m \u001b[32m━━━━━━━━━━━━━━━━━━━━\u001b[0m\u001b[37m\u001b[0m \u001b[1m3s\u001b[0m 871us/step - accuracy: 0.9338 - loss: 0.1728 - val_accuracy: 0.9324 - val_loss: 0.1324\n",
      "Epoch 21/100\n",
      "\u001b[1m3419/3419\u001b[0m \u001b[32m━━━━━━━━━━━━━━━━━━━━\u001b[0m\u001b[37m\u001b[0m \u001b[1m3s\u001b[0m 860us/step - accuracy: 0.9307 - loss: 0.1770 - val_accuracy: 0.9441 - val_loss: 0.1215\n",
      "Epoch 22/100\n",
      "\u001b[1m3419/3419\u001b[0m \u001b[32m━━━━━━━━━━━━━━━━━━━━\u001b[0m\u001b[37m\u001b[0m \u001b[1m3s\u001b[0m 957us/step - accuracy: 0.9435 - loss: 0.1446 - val_accuracy: 0.9190 - val_loss: 0.1669\n",
      "Epoch 23/100\n",
      "\u001b[1m3419/3419\u001b[0m \u001b[32m━━━━━━━━━━━━━━━━━━━━\u001b[0m\u001b[37m\u001b[0m \u001b[1m3s\u001b[0m 903us/step - accuracy: 0.9436 - loss: 0.1431 - val_accuracy: 0.8683 - val_loss: 0.3187\n",
      "Epoch 24/100\n",
      "\u001b[1m3419/3419\u001b[0m \u001b[32m━━━━━━━━━━━━━━━━━━━━\u001b[0m\u001b[37m\u001b[0m \u001b[1m3s\u001b[0m 991us/step - accuracy: 0.9418 - loss: 0.1486 - val_accuracy: 0.9452 - val_loss: 0.1198\n",
      "Epoch 25/100\n",
      "\u001b[1m3419/3419\u001b[0m \u001b[32m━━━━━━━━━━━━━━━━━━━━\u001b[0m\u001b[37m\u001b[0m \u001b[1m3s\u001b[0m 951us/step - accuracy: 0.9412 - loss: 0.1487 - val_accuracy: 0.9237 - val_loss: 0.1566\n",
      "Epoch 26/100\n",
      "\u001b[1m3419/3419\u001b[0m \u001b[32m━━━━━━━━━━━━━━━━━━━━\u001b[0m\u001b[37m\u001b[0m \u001b[1m3s\u001b[0m 957us/step - accuracy: 0.9405 - loss: 0.1514 - val_accuracy: 0.9165 - val_loss: 0.1568\n",
      "Epoch 27/100\n",
      "\u001b[1m3419/3419\u001b[0m \u001b[32m━━━━━━━━━━━━━━━━━━━━\u001b[0m\u001b[37m\u001b[0m \u001b[1m3s\u001b[0m 880us/step - accuracy: 0.9391 - loss: 0.1494 - val_accuracy: 0.9077 - val_loss: 0.1992\n",
      "Epoch 28/100\n",
      "\u001b[1m3419/3419\u001b[0m \u001b[32m━━━━━━━━━━━━━━━━━━━━\u001b[0m\u001b[37m\u001b[0m \u001b[1m3s\u001b[0m 864us/step - accuracy: 0.9411 - loss: 0.1450 - val_accuracy: 0.9362 - val_loss: 0.1201\n",
      "Epoch 29/100\n",
      "\u001b[1m3419/3419\u001b[0m \u001b[32m━━━━━━━━━━━━━━━━━━━━\u001b[0m\u001b[37m\u001b[0m \u001b[1m3s\u001b[0m 871us/step - accuracy: 0.9413 - loss: 0.1492 - val_accuracy: 0.9339 - val_loss: 0.1254\n",
      "Epoch 30/100\n",
      "\u001b[1m3419/3419\u001b[0m \u001b[32m━━━━━━━━━━━━━━━━━━━━\u001b[0m\u001b[37m\u001b[0m \u001b[1m3s\u001b[0m 848us/step - accuracy: 0.9382 - loss: 0.1532 - val_accuracy: 0.9098 - val_loss: 0.1825\n",
      "Epoch 31/100\n",
      "\u001b[1m3419/3419\u001b[0m \u001b[32m━━━━━━━━━━━━━━━━━━━━\u001b[0m\u001b[37m\u001b[0m \u001b[1m3s\u001b[0m 907us/step - accuracy: 0.9411 - loss: 0.1484 - val_accuracy: 0.9299 - val_loss: 0.1614\n",
      "Epoch 32/100\n",
      "\u001b[1m3419/3419\u001b[0m \u001b[32m━━━━━━━━━━━━━━━━━━━━\u001b[0m\u001b[37m\u001b[0m \u001b[1m3s\u001b[0m 888us/step - accuracy: 0.9430 - loss: 0.1418 - val_accuracy: 0.9199 - val_loss: 0.1483\n",
      "Epoch 33/100\n",
      "\u001b[1m3419/3419\u001b[0m \u001b[32m━━━━━━━━━━━━━━━━━━━━\u001b[0m\u001b[37m\u001b[0m \u001b[1m3s\u001b[0m 912us/step - accuracy: 0.9445 - loss: 0.1352 - val_accuracy: 0.9335 - val_loss: 0.1330\n",
      "Epoch 34/100\n",
      "\u001b[1m3419/3419\u001b[0m \u001b[32m━━━━━━━━━━━━━━━━━━━━\u001b[0m\u001b[37m\u001b[0m \u001b[1m3s\u001b[0m 962us/step - accuracy: 0.9445 - loss: 0.1343 - val_accuracy: 0.9427 - val_loss: 0.1098\n",
      "Epoch 35/100\n",
      "\u001b[1m3419/3419\u001b[0m \u001b[32m━━━━━━━━━━━━━━━━━━━━\u001b[0m\u001b[37m\u001b[0m \u001b[1m3s\u001b[0m 894us/step - accuracy: 0.9415 - loss: 0.1426 - val_accuracy: 0.9399 - val_loss: 0.1129\n",
      "Epoch 36/100\n",
      "\u001b[1m3419/3419\u001b[0m \u001b[32m━━━━━━━━━━━━━━━━━━━━\u001b[0m\u001b[37m\u001b[0m \u001b[1m3s\u001b[0m 947us/step - accuracy: 0.9360 - loss: 0.1614 - val_accuracy: 0.9477 - val_loss: 0.1071\n",
      "Epoch 37/100\n",
      "\u001b[1m3419/3419\u001b[0m \u001b[32m━━━━━━━━━━━━━━━━━━━━\u001b[0m\u001b[37m\u001b[0m \u001b[1m3s\u001b[0m 919us/step - accuracy: 0.9450 - loss: 0.1356 - val_accuracy: 0.9537 - val_loss: 0.1004\n",
      "Epoch 38/100\n",
      "\u001b[1m3419/3419\u001b[0m \u001b[32m━━━━━━━━━━━━━━━━━━━━\u001b[0m\u001b[37m\u001b[0m \u001b[1m3s\u001b[0m 905us/step - accuracy: 0.9422 - loss: 0.1441 - val_accuracy: 0.9286 - val_loss: 0.1749\n",
      "Epoch 39/100\n",
      "\u001b[1m3419/3419\u001b[0m \u001b[32m━━━━━━━━━━━━━━━━━━━━\u001b[0m\u001b[37m\u001b[0m \u001b[1m3s\u001b[0m 870us/step - accuracy: 0.9435 - loss: 0.1387 - val_accuracy: 0.9404 - val_loss: 0.1388\n",
      "Epoch 40/100\n",
      "\u001b[1m3419/3419\u001b[0m \u001b[32m━━━━━━━━━━━━━━━━━━━━\u001b[0m\u001b[37m\u001b[0m \u001b[1m3s\u001b[0m 894us/step - accuracy: 0.9446 - loss: 0.1418 - val_accuracy: 0.9181 - val_loss: 0.1735\n",
      "Epoch 41/100\n",
      "\u001b[1m3419/3419\u001b[0m \u001b[32m━━━━━━━━━━━━━━━━━━━━\u001b[0m\u001b[37m\u001b[0m \u001b[1m3s\u001b[0m 892us/step - accuracy: 0.9465 - loss: 0.1287 - val_accuracy: 0.8910 - val_loss: 0.2408\n",
      "Epoch 42/100\n",
      "\u001b[1m3419/3419\u001b[0m \u001b[32m━━━━━━━━━━━━━━━━━━━━\u001b[0m\u001b[37m\u001b[0m \u001b[1m3s\u001b[0m 847us/step - accuracy: 0.9422 - loss: 0.1431 - val_accuracy: 0.9416 - val_loss: 0.1287\n",
      "Epoch 43/100\n",
      "\u001b[1m3419/3419\u001b[0m \u001b[32m━━━━━━━━━━━━━━━━━━━━\u001b[0m\u001b[37m\u001b[0m \u001b[1m3s\u001b[0m 862us/step - accuracy: 0.9432 - loss: 0.1441 - val_accuracy: 0.9021 - val_loss: 0.1901\n",
      "Epoch 44/100\n",
      "\u001b[1m3419/3419\u001b[0m \u001b[32m━━━━━━━━━━━━━━━━━━━━\u001b[0m\u001b[37m\u001b[0m \u001b[1m3s\u001b[0m 857us/step - accuracy: 0.9495 - loss: 0.1237 - val_accuracy: 0.9352 - val_loss: 0.1596\n",
      "Epoch 45/100\n",
      "\u001b[1m3419/3419\u001b[0m \u001b[32m━━━━━━━━━━━━━━━━━━━━\u001b[0m\u001b[37m\u001b[0m \u001b[1m3s\u001b[0m 892us/step - accuracy: 0.9447 - loss: 0.1374 - val_accuracy: 0.9457 - val_loss: 0.1228\n",
      "Epoch 46/100\n",
      "\u001b[1m3419/3419\u001b[0m \u001b[32m━━━━━━━━━━━━━━━━━━━━\u001b[0m\u001b[37m\u001b[0m \u001b[1m3s\u001b[0m 897us/step - accuracy: 0.9459 - loss: 0.1337 - val_accuracy: 0.9492 - val_loss: 0.1037\n",
      "Epoch 47/100\n",
      "\u001b[1m3419/3419\u001b[0m \u001b[32m━━━━━━━━━━━━━━━━━━━━\u001b[0m\u001b[37m\u001b[0m \u001b[1m3s\u001b[0m 867us/step - accuracy: 0.9451 - loss: 0.1358 - val_accuracy: 0.9228 - val_loss: 0.2058\n",
      "Epoch 48/100\n",
      "\u001b[1m3419/3419\u001b[0m \u001b[32m━━━━━━━━━━━━━━━━━━━━\u001b[0m\u001b[37m\u001b[0m \u001b[1m3s\u001b[0m 966us/step - accuracy: 0.9427 - loss: 0.1413 - val_accuracy: 0.9431 - val_loss: 0.1207\n",
      "Epoch 49/100\n",
      "\u001b[1m3419/3419\u001b[0m \u001b[32m━━━━━━━━━━━━━━━━━━━━\u001b[0m\u001b[37m\u001b[0m \u001b[1m3s\u001b[0m 832us/step - accuracy: 0.9431 - loss: 0.1515 - val_accuracy: 0.9423 - val_loss: 0.1171\n",
      "Epoch 50/100\n",
      "\u001b[1m3419/3419\u001b[0m \u001b[32m━━━━━━━━━━━━━━━━━━━━\u001b[0m\u001b[37m\u001b[0m \u001b[1m3s\u001b[0m 839us/step - accuracy: 0.9473 - loss: 0.1291 - val_accuracy: 0.9218 - val_loss: 0.1690\n",
      "Epoch 51/100\n",
      "\u001b[1m3419/3419\u001b[0m \u001b[32m━━━━━━━━━━━━━━━━━━━━\u001b[0m\u001b[37m\u001b[0m \u001b[1m3s\u001b[0m 828us/step - accuracy: 0.9505 - loss: 0.1248 - val_accuracy: 0.9256 - val_loss: 0.1505\n",
      "Epoch 52/100\n",
      "\u001b[1m3419/3419\u001b[0m \u001b[32m━━━━━━━━━━━━━━━━━━━━\u001b[0m\u001b[37m\u001b[0m \u001b[1m3s\u001b[0m 905us/step - accuracy: 0.9400 - loss: 0.1513 - val_accuracy: 0.9318 - val_loss: 0.1326\n",
      "Epoch 53/100\n",
      "\u001b[1m3419/3419\u001b[0m \u001b[32m━━━━━━━━━━━━━━━━━━━━\u001b[0m\u001b[37m\u001b[0m \u001b[1m3s\u001b[0m 910us/step - accuracy: 0.9471 - loss: 0.1278 - val_accuracy: 0.8956 - val_loss: 0.2375\n",
      "Epoch 54/100\n",
      "\u001b[1m3419/3419\u001b[0m \u001b[32m━━━━━━━━━━━━━━━━━━━━\u001b[0m\u001b[37m\u001b[0m \u001b[1m3s\u001b[0m 860us/step - accuracy: 0.9525 - loss: 0.1198 - val_accuracy: 0.9264 - val_loss: 0.1661\n",
      "Epoch 55/100\n",
      "\u001b[1m3419/3419\u001b[0m \u001b[32m━━━━━━━━━━━━━━━━━━━━\u001b[0m\u001b[37m\u001b[0m \u001b[1m3s\u001b[0m 844us/step - accuracy: 0.9475 - loss: 0.1286 - val_accuracy: 0.9365 - val_loss: 0.1277\n",
      "Epoch 56/100\n",
      "\u001b[1m3419/3419\u001b[0m \u001b[32m━━━━━━━━━━━━━━━━━━━━\u001b[0m\u001b[37m\u001b[0m \u001b[1m3s\u001b[0m 838us/step - accuracy: 0.9482 - loss: 0.1309 - val_accuracy: 0.9460 - val_loss: 0.1021\n",
      "Epoch 57/100\n",
      "\u001b[1m3419/3419\u001b[0m \u001b[32m━━━━━━━━━━━━━━━━━━━━\u001b[0m\u001b[37m\u001b[0m \u001b[1m3s\u001b[0m 839us/step - accuracy: 0.9506 - loss: 0.1239 - val_accuracy: 0.9245 - val_loss: 0.1851\n",
      "Epoch 58/100\n",
      "\u001b[1m3419/3419\u001b[0m \u001b[32m━━━━━━━━━━━━━━━━━━━━\u001b[0m\u001b[37m\u001b[0m \u001b[1m3s\u001b[0m 875us/step - accuracy: 0.9460 - loss: 0.1348 - val_accuracy: 0.9388 - val_loss: 0.1263\n",
      "Epoch 59/100\n",
      "\u001b[1m3419/3419\u001b[0m \u001b[32m━━━━━━━━━━━━━━━━━━━━\u001b[0m\u001b[37m\u001b[0m \u001b[1m3s\u001b[0m 857us/step - accuracy: 0.9445 - loss: 0.1431 - val_accuracy: 0.9519 - val_loss: 0.1103\n",
      "Epoch 60/100\n",
      "\u001b[1m3419/3419\u001b[0m \u001b[32m━━━━━━━━━━━━━━━━━━━━\u001b[0m\u001b[37m\u001b[0m \u001b[1m3s\u001b[0m 838us/step - accuracy: 0.9483 - loss: 0.1283 - val_accuracy: 0.8876 - val_loss: 0.3123\n",
      "Epoch 61/100\n",
      "\u001b[1m3419/3419\u001b[0m \u001b[32m━━━━━━━━━━━━━━━━━━━━\u001b[0m\u001b[37m\u001b[0m \u001b[1m3s\u001b[0m 846us/step - accuracy: 0.9468 - loss: 0.1363 - val_accuracy: 0.9615 - val_loss: 0.0816\n",
      "Epoch 62/100\n",
      "\u001b[1m3419/3419\u001b[0m \u001b[32m━━━━━━━━━━━━━━━━━━━━\u001b[0m\u001b[37m\u001b[0m \u001b[1m3s\u001b[0m 880us/step - accuracy: 0.9462 - loss: 0.1323 - val_accuracy: 0.9386 - val_loss: 0.1212\n",
      "Epoch 63/100\n",
      "\u001b[1m3419/3419\u001b[0m \u001b[32m━━━━━━━━━━━━━━━━━━━━\u001b[0m\u001b[37m\u001b[0m \u001b[1m3s\u001b[0m 885us/step - accuracy: 0.9517 - loss: 0.1198 - val_accuracy: 0.9566 - val_loss: 0.0923\n",
      "Epoch 64/100\n",
      "\u001b[1m3419/3419\u001b[0m \u001b[32m━━━━━━━━━━━━━━━━━━━━\u001b[0m\u001b[37m\u001b[0m \u001b[1m3s\u001b[0m 874us/step - accuracy: 0.9521 - loss: 0.1160 - val_accuracy: 0.9205 - val_loss: 0.1587\n",
      "Epoch 65/100\n",
      "\u001b[1m3419/3419\u001b[0m \u001b[32m━━━━━━━━━━━━━━━━━━━━\u001b[0m\u001b[37m\u001b[0m \u001b[1m3s\u001b[0m 865us/step - accuracy: 0.9479 - loss: 0.1259 - val_accuracy: 0.9518 - val_loss: 0.0921\n",
      "Epoch 66/100\n",
      "\u001b[1m3419/3419\u001b[0m \u001b[32m━━━━━━━━━━━━━━━━━━━━\u001b[0m\u001b[37m\u001b[0m \u001b[1m3s\u001b[0m 854us/step - accuracy: 0.9468 - loss: 0.1263 - val_accuracy: 0.8679 - val_loss: 0.4118\n",
      "Epoch 67/100\n",
      "\u001b[1m3419/3419\u001b[0m \u001b[32m━━━━━━━━━━━━━━━━━━━━\u001b[0m\u001b[37m\u001b[0m \u001b[1m3s\u001b[0m 828us/step - accuracy: 0.9522 - loss: 0.1208 - val_accuracy: 0.8965 - val_loss: 0.3171\n",
      "Epoch 68/100\n",
      "\u001b[1m3419/3419\u001b[0m \u001b[32m━━━━━━━━━━━━━━━━━━━━\u001b[0m\u001b[37m\u001b[0m \u001b[1m3s\u001b[0m 822us/step - accuracy: 0.9464 - loss: 0.1290 - val_accuracy: 0.9312 - val_loss: 0.1790\n",
      "Epoch 69/100\n",
      "\u001b[1m3419/3419\u001b[0m \u001b[32m━━━━━━━━━━━━━━━━━━━━\u001b[0m\u001b[37m\u001b[0m \u001b[1m3s\u001b[0m 855us/step - accuracy: 0.9438 - loss: 0.1377 - val_accuracy: 0.9559 - val_loss: 0.0882\n",
      "Epoch 70/100\n",
      "\u001b[1m3419/3419\u001b[0m \u001b[32m━━━━━━━━━━━━━━━━━━━━\u001b[0m\u001b[37m\u001b[0m \u001b[1m3s\u001b[0m 836us/step - accuracy: 0.9455 - loss: 0.1332 - val_accuracy: 0.9537 - val_loss: 0.1051\n",
      "Epoch 71/100\n",
      "\u001b[1m3419/3419\u001b[0m \u001b[32m━━━━━━━━━━━━━━━━━━━━\u001b[0m\u001b[37m\u001b[0m \u001b[1m3s\u001b[0m 869us/step - accuracy: 0.9556 - loss: 0.1084 - val_accuracy: 0.9444 - val_loss: 0.1094\n",
      "Epoch 72/100\n",
      "\u001b[1m3419/3419\u001b[0m \u001b[32m━━━━━━━━━━━━━━━━━━━━\u001b[0m\u001b[37m\u001b[0m \u001b[1m3s\u001b[0m 887us/step - accuracy: 0.9509 - loss: 0.1238 - val_accuracy: 0.9223 - val_loss: 0.2116\n",
      "Epoch 73/100\n",
      "\u001b[1m3419/3419\u001b[0m \u001b[32m━━━━━━━━━━━━━━━━━━━━\u001b[0m\u001b[37m\u001b[0m \u001b[1m3s\u001b[0m 839us/step - accuracy: 0.9560 - loss: 0.1117 - val_accuracy: 0.9629 - val_loss: 0.0778\n",
      "Epoch 74/100\n",
      "\u001b[1m3419/3419\u001b[0m \u001b[32m━━━━━━━━━━━━━━━━━━━━\u001b[0m\u001b[37m\u001b[0m \u001b[1m3s\u001b[0m 850us/step - accuracy: 0.9502 - loss: 0.1236 - val_accuracy: 0.9458 - val_loss: 0.1103\n",
      "Epoch 75/100\n",
      "\u001b[1m3419/3419\u001b[0m \u001b[32m━━━━━━━━━━━━━━━━━━━━\u001b[0m\u001b[37m\u001b[0m \u001b[1m3s\u001b[0m 835us/step - accuracy: 0.9498 - loss: 0.1268 - val_accuracy: 0.9513 - val_loss: 0.0933\n",
      "Epoch 76/100\n",
      "\u001b[1m3419/3419\u001b[0m \u001b[32m━━━━━━━━━━━━━━━━━━━━\u001b[0m\u001b[37m\u001b[0m \u001b[1m3s\u001b[0m 836us/step - accuracy: 0.9540 - loss: 0.1121 - val_accuracy: 0.9530 - val_loss: 0.0900\n",
      "Epoch 77/100\n",
      "\u001b[1m3419/3419\u001b[0m \u001b[32m━━━━━━━━━━━━━━━━━━━━\u001b[0m\u001b[37m\u001b[0m \u001b[1m3s\u001b[0m 844us/step - accuracy: 0.9514 - loss: 0.1206 - val_accuracy: 0.9305 - val_loss: 0.1502\n",
      "Epoch 78/100\n",
      "\u001b[1m3419/3419\u001b[0m \u001b[32m━━━━━━━━━━━━━━━━━━━━\u001b[0m\u001b[37m\u001b[0m \u001b[1m3s\u001b[0m 837us/step - accuracy: 0.9515 - loss: 0.1176 - val_accuracy: 0.9265 - val_loss: 0.1483\n",
      "Epoch 79/100\n",
      "\u001b[1m3419/3419\u001b[0m \u001b[32m━━━━━━━━━━━━━━━━━━━━\u001b[0m\u001b[37m\u001b[0m \u001b[1m3s\u001b[0m 828us/step - accuracy: 0.9559 - loss: 0.1108 - val_accuracy: 0.9411 - val_loss: 0.1149\n",
      "Epoch 80/100\n",
      "\u001b[1m3419/3419\u001b[0m \u001b[32m━━━━━━━━━━━━━━━━━━━━\u001b[0m\u001b[37m\u001b[0m \u001b[1m3s\u001b[0m 837us/step - accuracy: 0.9481 - loss: 0.1316 - val_accuracy: 0.9507 - val_loss: 0.1116\n",
      "Epoch 81/100\n",
      "\u001b[1m3419/3419\u001b[0m \u001b[32m━━━━━━━━━━━━━━━━━━━━\u001b[0m\u001b[37m\u001b[0m \u001b[1m3s\u001b[0m 827us/step - accuracy: 0.9515 - loss: 0.1211 - val_accuracy: 0.9592 - val_loss: 0.0895\n",
      "Epoch 82/100\n",
      "\u001b[1m3419/3419\u001b[0m \u001b[32m━━━━━━━━━━━━━━━━━━━━\u001b[0m\u001b[37m\u001b[0m \u001b[1m3s\u001b[0m 818us/step - accuracy: 0.9490 - loss: 0.1266 - val_accuracy: 0.9493 - val_loss: 0.0977\n",
      "Epoch 83/100\n",
      "\u001b[1m3419/3419\u001b[0m \u001b[32m━━━━━━━━━━━━━━━━━━━━\u001b[0m\u001b[37m\u001b[0m \u001b[1m3s\u001b[0m 850us/step - accuracy: 0.9506 - loss: 0.1153 - val_accuracy: 0.9407 - val_loss: 0.1232\n",
      "Epoch 84/100\n",
      "\u001b[1m3419/3419\u001b[0m \u001b[32m━━━━━━━━━━━━━━━━━━━━\u001b[0m\u001b[37m\u001b[0m \u001b[1m3s\u001b[0m 827us/step - accuracy: 0.9485 - loss: 0.1326 - val_accuracy: 0.9304 - val_loss: 0.1362\n",
      "Epoch 85/100\n",
      "\u001b[1m3419/3419\u001b[0m \u001b[32m━━━━━━━━━━━━━━━━━━━━\u001b[0m\u001b[37m\u001b[0m \u001b[1m3s\u001b[0m 829us/step - accuracy: 0.9520 - loss: 0.1175 - val_accuracy: 0.9356 - val_loss: 0.1283\n",
      "Epoch 86/100\n",
      "\u001b[1m3419/3419\u001b[0m \u001b[32m━━━━━━━━━━━━━━━━━━━━\u001b[0m\u001b[37m\u001b[0m \u001b[1m3s\u001b[0m 843us/step - accuracy: 0.9508 - loss: 0.1201 - val_accuracy: 0.9545 - val_loss: 0.0903\n",
      "Epoch 87/100\n",
      "\u001b[1m3419/3419\u001b[0m \u001b[32m━━━━━━━━━━━━━━━━━━━━\u001b[0m\u001b[37m\u001b[0m \u001b[1m3s\u001b[0m 824us/step - accuracy: 0.9516 - loss: 0.1189 - val_accuracy: 0.9628 - val_loss: 0.0814\n",
      "Epoch 88/100\n",
      "\u001b[1m3419/3419\u001b[0m \u001b[32m━━━━━━━━━━━━━━━━━━━━\u001b[0m\u001b[37m\u001b[0m \u001b[1m3s\u001b[0m 825us/step - accuracy: 0.9539 - loss: 0.1122 - val_accuracy: 0.9371 - val_loss: 0.1248\n",
      "Epoch 89/100\n",
      "\u001b[1m3419/3419\u001b[0m \u001b[32m━━━━━━━━━━━━━━━━━━━━\u001b[0m\u001b[37m\u001b[0m \u001b[1m3s\u001b[0m 826us/step - accuracy: 0.9535 - loss: 0.1170 - val_accuracy: 0.9454 - val_loss: 0.1018\n",
      "Epoch 90/100\n",
      "\u001b[1m3419/3419\u001b[0m \u001b[32m━━━━━━━━━━━━━━━━━━━━\u001b[0m\u001b[37m\u001b[0m \u001b[1m3s\u001b[0m 828us/step - accuracy: 0.9449 - loss: 0.1410 - val_accuracy: 0.9312 - val_loss: 0.1625\n",
      "Epoch 91/100\n",
      "\u001b[1m3419/3419\u001b[0m \u001b[32m━━━━━━━━━━━━━━━━━━━━\u001b[0m\u001b[37m\u001b[0m \u001b[1m3s\u001b[0m 836us/step - accuracy: 0.9485 - loss: 0.1276 - val_accuracy: 0.9597 - val_loss: 0.0817\n",
      "Epoch 92/100\n",
      "\u001b[1m3419/3419\u001b[0m \u001b[32m━━━━━━━━━━━━━━━━━━━━\u001b[0m\u001b[37m\u001b[0m \u001b[1m3s\u001b[0m 840us/step - accuracy: 0.9558 - loss: 0.1058 - val_accuracy: 0.9331 - val_loss: 0.1334\n",
      "Epoch 93/100\n",
      "\u001b[1m3419/3419\u001b[0m \u001b[32m━━━━━━━━━━━━━━━━━━━━\u001b[0m\u001b[37m\u001b[0m \u001b[1m3s\u001b[0m 823us/step - accuracy: 0.9558 - loss: 0.1093 - val_accuracy: 0.9414 - val_loss: 0.1233\n",
      "Epoch 94/100\n",
      "\u001b[1m3419/3419\u001b[0m \u001b[32m━━━━━━━━━━━━━━━━━━━━\u001b[0m\u001b[37m\u001b[0m \u001b[1m3s\u001b[0m 842us/step - accuracy: 0.9533 - loss: 0.1149 - val_accuracy: 0.9612 - val_loss: 0.0816\n",
      "Epoch 95/100\n",
      "\u001b[1m3419/3419\u001b[0m \u001b[32m━━━━━━━━━━━━━━━━━━━━\u001b[0m\u001b[37m\u001b[0m \u001b[1m3s\u001b[0m 823us/step - accuracy: 0.9495 - loss: 0.1247 - val_accuracy: 0.9603 - val_loss: 0.0874\n",
      "Epoch 96/100\n",
      "\u001b[1m3419/3419\u001b[0m \u001b[32m━━━━━━━━━━━━━━━━━━━━\u001b[0m\u001b[37m\u001b[0m \u001b[1m3s\u001b[0m 838us/step - accuracy: 0.9561 - loss: 0.1072 - val_accuracy: 0.9608 - val_loss: 0.0768\n",
      "Epoch 97/100\n",
      "\u001b[1m3419/3419\u001b[0m \u001b[32m━━━━━━━━━━━━━━━━━━━━\u001b[0m\u001b[37m\u001b[0m \u001b[1m3s\u001b[0m 863us/step - accuracy: 0.9537 - loss: 0.1139 - val_accuracy: 0.9523 - val_loss: 0.0931\n",
      "Epoch 98/100\n",
      "\u001b[1m3419/3419\u001b[0m \u001b[32m━━━━━━━━━━━━━━━━━━━━\u001b[0m\u001b[37m\u001b[0m \u001b[1m3s\u001b[0m 844us/step - accuracy: 0.9565 - loss: 0.1072 - val_accuracy: 0.9558 - val_loss: 0.1054\n",
      "Epoch 99/100\n",
      "\u001b[1m3419/3419\u001b[0m \u001b[32m━━━━━━━━━━━━━━━━━━━━\u001b[0m\u001b[37m\u001b[0m \u001b[1m3s\u001b[0m 837us/step - accuracy: 0.9557 - loss: 0.1076 - val_accuracy: 0.9584 - val_loss: 0.0824\n",
      "Epoch 100/100\n",
      "\u001b[1m3419/3419\u001b[0m \u001b[32m━━━━━━━━━━━━━━━━━━━━\u001b[0m\u001b[37m\u001b[0m \u001b[1m3s\u001b[0m 857us/step - accuracy: 0.9530 - loss: 0.1184 - val_accuracy: 0.9541 - val_loss: 0.0925\n"
     ]
    }
   ],
   "source": [
    "# Variable\n",
    "epochs = 100\n",
    "batch_size = 16\n",
    "\n",
    "# Do not change\n",
    "history = model.fit(\n",
    "    xtrain,\n",
    "    ytrain,\n",
    "    epochs=epochs,\n",
    "    validation_data=(xval, yval),\n",
    "    batch_size=batch_size\n",
    ")"
   ]
  },
  {
   "cell_type": "markdown",
   "metadata": {},
   "source": [
    "## Evaluate The Model"
   ]
  },
  {
   "cell_type": "code",
   "execution_count": 8,
   "metadata": {},
   "outputs": [
    {
     "data": {
      "image/png": "[encoded data removed]",
      "text/plain": [
       "<Figure size 1200x500 with 2 Axes>"
      ]
     },
     "metadata": {},
     "output_type": "display_data"
    }
   ],
   "source": [
    "# Do not change\n",
    "\n",
    "# Extract metrics from the history object\n",
    "epochs = range(1, len(history.history['accuracy']) + 1)\n",
    "train_acc = history.history['accuracy']\n",
    "val_acc = history.history['val_accuracy']\n",
    "train_loss = history.history['loss']\n",
    "val_loss = history.history['val_loss']\n",
    "\n",
    "# Plot accuracy\n",
    "plt.figure(figsize=(12, 5))\n",
    "\n",
    "plt.subplot(1, 2, 1)\n",
    "plt.plot(epochs, train_acc, 'b-', label='Training Accuracy')\n",
    "plt.plot(epochs, val_acc, 'r-', label='Validation Accuracy')\n",
    "plt.title('Training and Validation Accuracy')\n",
    "plt.xlabel('Epochs')\n",
    "plt.ylabel('Accuracy')\n",
    "plt.legend()\n",
    "\n",
    "# Plot loss\n",
    "plt.subplot(1, 2, 2)\n",
    "plt.plot(epochs, train_loss, 'b-', label='Training Loss')\n",
    "plt.plot(epochs, val_loss, 'r-', label='Validation Loss')\n",
    "plt.title('Training and Validation Loss')\n",
    "plt.xlabel('Epochs')\n",
    "plt.ylabel('Loss')\n",
    "plt.legend()\n",
    "\n",
    "plt.tight_layout()\n",
    "plt.show()"
   ]
  },
  {
   "cell_type": "markdown",
   "metadata": {},
   "source": [
    "## Manually Test Model Accuracy Using Testset"
   ]
  },
  {
   "cell_type": "code",
   "execution_count": null,
   "metadata": {},
   "outputs": [
    {
     "name": "stdout",
     "output_type": "stream",
     "text": [
      "Iteration: 662\n",
      "Testcase accuracy: 96.23%\n"
     ]
    }
   ],
   "source": [
    "# Do not change\n",
    "error = 0\n",
    "\n",
    "for i in range(xtest.shape[0]):\n",
    "    print(\"Iteration:\",i)\n",
    "    pred = xtest[i].reshape(1, -1)\n",
    "    pred_tensor = tf.convert_to_tensor(pred, dtype=tf.float32)\n",
    "    prediction = model.predict(pred_tensor, verbose=False)\n",
    "    index = np.argmax(prediction)\n",
    "    output = [\"severely stunted\", \"stunted\", \"normal\", \"tinggi\"][index]\n",
    "    label = [\"severely stunted\", \"stunted\", \"normal\", \"tinggi\"][ytest[i]]\n",
    "    if output != label:\n",
    "        error += 1\n",
    "    if i < xtest.shape[0] - 1:\n",
    "        clear_output(wait=True)\n",
    "\n",
    "accuracy = ((xtest.shape[0] - error) / xtest.shape[0]) * 100\n",
    "print(f\"Testcase accuracy: {accuracy:.2f}%\")"
   ]
  },
  {
   "cell_type": "markdown",
   "metadata": {},
   "source": [
    "## Save The Model"
   ]
  },
  {
   "cell_type": "code",
   "execution_count": null,
   "metadata": {},
   "outputs": [],
   "source": [
    "# Variable\n",
    "fileName = \"StuntingClassificationModel.keras\"\n",
    "folderName = \"model\"\n",
    "\n",
    "# Do not change\n",
    "modelPath = os.path.join(os.getcwd(), folderName, fileName)\n",
    "os.makedirs(os.path.join(os.getcwd(), folderName), exist_ok=True)\n",
    "model.save(modelPath)"
   ]
  }
 ],
 "metadata": {
  "kernelspec": {
   "display_name": "Python 3",
   "language": "python",
   "name": "python3"
  },
  "language_info": {
   "codemirror_mode": {
    "name": "ipython",
    "version": 3
   },
   "file_extension": ".py",
   "mimetype": "text/x-python",
   "name": "python",
   "nbconvert_exporter": "python",
   "pygments_lexer": "ipython3",
   "version": "3.12.6"
  }
 },
 "nbformat": 4,
 "nbformat_minor": 2
}
