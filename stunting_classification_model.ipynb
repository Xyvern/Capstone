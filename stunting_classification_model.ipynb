{
 "cells": [
  {
   "cell_type": "markdown",
   "metadata": {},
   "source": [
    "# Stunting Classification Model\n"
   ]
  },
  {
   "cell_type": "markdown",
   "metadata": {},
   "source": [
    "## Install Dependencies"
   ]
  },
  {
   "cell_type": "code",
   "execution_count": 3,
   "metadata": {},
   "outputs": [
    {
     "name": "stdout",
     "output_type": "stream",
     "text": [
      "Requirement already satisfied: numpy in c:\\users\\darryl\\appdata\\local\\programs\\python\\python312\\lib\\site-packages (1.26.4)\n",
      "Note: you may need to restart the kernel to use updated packages.\n",
      "Requirement already satisfied: pandas in c:\\users\\darryl\\appdata\\local\\programs\\python\\python312\\lib\\site-packages (2.2.3)\n",
      "Requirement already satisfied: numpy>=1.26.0 in c:\\users\\darryl\\appdata\\local\\programs\\python\\python312\\lib\\site-packages (from pandas) (1.26.4)\n",
      "Requirement already satisfied: python-dateutil>=2.8.2 in c:\\users\\darryl\\appdata\\roaming\\python\\python312\\site-packages (from pandas) (2.9.0.post0)\n",
      "Requirement already satisfied: pytz>=2020.1 in c:\\users\\darryl\\appdata\\local\\programs\\python\\python312\\lib\\site-packages (from pandas) (2024.2)\n",
      "Requirement already satisfied: tzdata>=2022.7 in c:\\users\\darryl\\appdata\\local\\programs\\python\\python312\\lib\\site-packages (from pandas) (2024.2)\n",
      "Requirement already satisfied: six>=1.5 in c:\\users\\darryl\\appdata\\roaming\\python\\python312\\site-packages (from python-dateutil>=2.8.2->pandas) (1.16.0)\n",
      "Note: you may need to restart the kernel to use updated packages.\n",
      "Requirement already satisfied: matplotlib in c:\\users\\darryl\\appdata\\local\\programs\\python\\python312\\lib\\site-packages (3.9.2)\n",
      "Requirement already satisfied: contourpy>=1.0.1 in c:\\users\\darryl\\appdata\\local\\programs\\python\\python312\\lib\\site-packages (from matplotlib) (1.3.0)\n",
      "Requirement already satisfied: cycler>=0.10 in c:\\users\\darryl\\appdata\\local\\programs\\python\\python312\\lib\\site-packages (from matplotlib) (0.12.1)\n",
      "Requirement already satisfied: fonttools>=4.22.0 in c:\\users\\darryl\\appdata\\local\\programs\\python\\python312\\lib\\site-packages (from matplotlib) (4.54.1)\n",
      "Requirement already satisfied: kiwisolver>=1.3.1 in c:\\users\\darryl\\appdata\\local\\programs\\python\\python312\\lib\\site-packages (from matplotlib) (1.4.7)\n",
      "Requirement already satisfied: numpy>=1.23 in c:\\users\\darryl\\appdata\\local\\programs\\python\\python312\\lib\\site-packages (from matplotlib) (1.26.4)\n",
      "Requirement already satisfied: packaging>=20.0 in c:\\users\\darryl\\appdata\\local\\programs\\python\\python312\\lib\\site-packages (from matplotlib) (20.9)\n",
      "Requirement already satisfied: pillow>=8 in c:\\users\\darryl\\appdata\\local\\programs\\python\\python312\\lib\\site-packages (from matplotlib) (10.4.0)\n",
      "Requirement already satisfied: pyparsing>=2.3.1 in c:\\users\\darryl\\appdata\\local\\programs\\python\\python312\\lib\\site-packages (from matplotlib) (3.1.4)\n",
      "Requirement already satisfied: python-dateutil>=2.7 in c:\\users\\darryl\\appdata\\roaming\\python\\python312\\site-packages (from matplotlib) (2.9.0.post0)\n",
      "Requirement already satisfied: six>=1.5 in c:\\users\\darryl\\appdata\\roaming\\python\\python312\\site-packages (from python-dateutil>=2.7->matplotlib) (1.16.0)\n",
      "Note: you may need to restart the kernel to use updated packages.\n",
      "Requirement already satisfied: tensorflow in c:\\users\\darryl\\appdata\\local\\programs\\python\\python312\\lib\\site-packages (2.18.0)\n",
      "Requirement already satisfied: tensorflow-intel==2.18.0 in c:\\users\\darryl\\appdata\\local\\programs\\python\\python312\\lib\\site-packages (from tensorflow) (2.18.0)\n",
      "Requirement already satisfied: absl-py>=1.0.0 in c:\\users\\darryl\\appdata\\local\\programs\\python\\python312\\lib\\site-packages (from tensorflow-intel==2.18.0->tensorflow) (2.1.0)\n",
      "Requirement already satisfied: astunparse>=1.6.0 in c:\\users\\darryl\\appdata\\local\\programs\\python\\python312\\lib\\site-packages (from tensorflow-intel==2.18.0->tensorflow) (1.6.3)\n",
      "Requirement already satisfied: flatbuffers>=24.3.25 in c:\\users\\darryl\\appdata\\local\\programs\\python\\python312\\lib\\site-packages (from tensorflow-intel==2.18.0->tensorflow) (24.3.25)\n",
      "Requirement already satisfied: gast!=0.5.0,!=0.5.1,!=0.5.2,>=0.2.1 in c:\\users\\darryl\\appdata\\local\\programs\\python\\python312\\lib\\site-packages (from tensorflow-intel==2.18.0->tensorflow) (0.6.0)\n",
      "Requirement already satisfied: google-pasta>=0.1.1 in c:\\users\\darryl\\appdata\\local\\programs\\python\\python312\\lib\\site-packages (from tensorflow-intel==2.18.0->tensorflow) (0.2.0)\n",
      "Requirement already satisfied: libclang>=13.0.0 in c:\\users\\darryl\\appdata\\local\\programs\\python\\python312\\lib\\site-packages (from tensorflow-intel==2.18.0->tensorflow) (18.1.1)\n",
      "Requirement already satisfied: opt-einsum>=2.3.2 in c:\\users\\darryl\\appdata\\local\\programs\\python\\python312\\lib\\site-packages (from tensorflow-intel==2.18.0->tensorflow) (3.4.0)\n",
      "Requirement already satisfied: packaging in c:\\users\\darryl\\appdata\\local\\programs\\python\\python312\\lib\\site-packages (from tensorflow-intel==2.18.0->tensorflow) (20.9)\n",
      "Requirement already satisfied: protobuf!=4.21.0,!=4.21.1,!=4.21.2,!=4.21.3,!=4.21.4,!=4.21.5,<6.0.0dev,>=3.20.3 in c:\\users\\darryl\\appdata\\local\\programs\\python\\python312\\lib\\site-packages (from tensorflow-intel==2.18.0->tensorflow) (4.25.5)\n",
      "Requirement already satisfied: requests<3,>=2.21.0 in c:\\users\\darryl\\appdata\\local\\programs\\python\\python312\\lib\\site-packages (from tensorflow-intel==2.18.0->tensorflow) (2.32.3)\n",
      "Requirement already satisfied: setuptools in c:\\users\\darryl\\appdata\\local\\programs\\python\\python312\\lib\\site-packages (from tensorflow-intel==2.18.0->tensorflow) (75.1.0)\n",
      "Requirement already satisfied: six>=1.12.0 in c:\\users\\darryl\\appdata\\roaming\\python\\python312\\site-packages (from tensorflow-intel==2.18.0->tensorflow) (1.16.0)\n",
      "Requirement already satisfied: termcolor>=1.1.0 in c:\\users\\darryl\\appdata\\local\\programs\\python\\python312\\lib\\site-packages (from tensorflow-intel==2.18.0->tensorflow) (2.5.0)\n",
      "Requirement already satisfied: typing-extensions>=3.6.6 in c:\\users\\darryl\\appdata\\local\\programs\\python\\python312\\lib\\site-packages (from tensorflow-intel==2.18.0->tensorflow) (4.12.2)\n",
      "Requirement already satisfied: wrapt>=1.11.0 in c:\\users\\darryl\\appdata\\local\\programs\\python\\python312\\lib\\site-packages (from tensorflow-intel==2.18.0->tensorflow) (1.16.0)\n",
      "Requirement already satisfied: grpcio<2.0,>=1.24.3 in c:\\users\\darryl\\appdata\\local\\programs\\python\\python312\\lib\\site-packages (from tensorflow-intel==2.18.0->tensorflow) (1.67.0)\n",
      "Requirement already satisfied: tensorboard<2.19,>=2.18 in c:\\users\\darryl\\appdata\\local\\programs\\python\\python312\\lib\\site-packages (from tensorflow-intel==2.18.0->tensorflow) (2.18.0)\n",
      "Requirement already satisfied: keras>=3.5.0 in c:\\users\\darryl\\appdata\\local\\programs\\python\\python312\\lib\\site-packages (from tensorflow-intel==2.18.0->tensorflow) (3.6.0)\n",
      "Requirement already satisfied: numpy<2.1.0,>=1.26.0 in c:\\users\\darryl\\appdata\\local\\programs\\python\\python312\\lib\\site-packages (from tensorflow-intel==2.18.0->tensorflow) (1.26.4)\n",
      "Requirement already satisfied: h5py>=3.11.0 in c:\\users\\darryl\\appdata\\local\\programs\\python\\python312\\lib\\site-packages (from tensorflow-intel==2.18.0->tensorflow) (3.12.1)\n",
      "Requirement already satisfied: ml-dtypes<0.5.0,>=0.4.0 in c:\\users\\darryl\\appdata\\local\\programs\\python\\python312\\lib\\site-packages (from tensorflow-intel==2.18.0->tensorflow) (0.4.1)\n",
      "Requirement already satisfied: wheel<1.0,>=0.23.0 in c:\\users\\darryl\\appdata\\local\\programs\\python\\python312\\lib\\site-packages (from astunparse>=1.6.0->tensorflow-intel==2.18.0->tensorflow) (0.44.0)\n",
      "Requirement already satisfied: rich in c:\\users\\darryl\\appdata\\local\\programs\\python\\python312\\lib\\site-packages (from keras>=3.5.0->tensorflow-intel==2.18.0->tensorflow) (13.9.1)\n",
      "Requirement already satisfied: namex in c:\\users\\darryl\\appdata\\local\\programs\\python\\python312\\lib\\site-packages (from keras>=3.5.0->tensorflow-intel==2.18.0->tensorflow) (0.0.8)\n",
      "Requirement already satisfied: optree in c:\\users\\darryl\\appdata\\local\\programs\\python\\python312\\lib\\site-packages (from keras>=3.5.0->tensorflow-intel==2.18.0->tensorflow) (0.13.0)\n",
      "Requirement already satisfied: charset-normalizer<4,>=2 in c:\\users\\darryl\\appdata\\local\\programs\\python\\python312\\lib\\site-packages (from requests<3,>=2.21.0->tensorflow-intel==2.18.0->tensorflow) (3.3.2)\n",
      "Requirement already satisfied: idna<4,>=2.5 in c:\\users\\darryl\\appdata\\local\\programs\\python\\python312\\lib\\site-packages (from requests<3,>=2.21.0->tensorflow-intel==2.18.0->tensorflow) (3.10)\n",
      "Requirement already satisfied: urllib3<3,>=1.21.1 in c:\\users\\darryl\\appdata\\local\\programs\\python\\python312\\lib\\site-packages (from requests<3,>=2.21.0->tensorflow-intel==2.18.0->tensorflow) (2.2.3)\n",
      "Requirement already satisfied: certifi>=2017.4.17 in c:\\users\\darryl\\appdata\\local\\programs\\python\\python312\\lib\\site-packages (from requests<3,>=2.21.0->tensorflow-intel==2.18.0->tensorflow) (2024.8.30)\n",
      "Requirement already satisfied: markdown>=2.6.8 in c:\\users\\darryl\\appdata\\local\\programs\\python\\python312\\lib\\site-packages (from tensorboard<2.19,>=2.18->tensorflow-intel==2.18.0->tensorflow) (3.7)\n",
      "Requirement already satisfied: tensorboard-data-server<0.8.0,>=0.7.0 in c:\\users\\darryl\\appdata\\local\\programs\\python\\python312\\lib\\site-packages (from tensorboard<2.19,>=2.18->tensorflow-intel==2.18.0->tensorflow) (0.7.2)\n",
      "Requirement already satisfied: werkzeug>=1.0.1 in c:\\users\\darryl\\appdata\\local\\programs\\python\\python312\\lib\\site-packages (from tensorboard<2.19,>=2.18->tensorflow-intel==2.18.0->tensorflow) (3.0.4)\n",
      "Requirement already satisfied: pyparsing>=2.0.2 in c:\\users\\darryl\\appdata\\local\\programs\\python\\python312\\lib\\site-packages (from packaging->tensorflow-intel==2.18.0->tensorflow) (3.1.4)\n",
      "Requirement already satisfied: MarkupSafe>=2.1.1 in c:\\users\\darryl\\appdata\\local\\programs\\python\\python312\\lib\\site-packages (from werkzeug>=1.0.1->tensorboard<2.19,>=2.18->tensorflow-intel==2.18.0->tensorflow) (2.1.5)\n",
      "Requirement already satisfied: markdown-it-py>=2.2.0 in c:\\users\\darryl\\appdata\\local\\programs\\python\\python312\\lib\\site-packages (from rich->keras>=3.5.0->tensorflow-intel==2.18.0->tensorflow) (3.0.0)\n",
      "Requirement already satisfied: pygments<3.0.0,>=2.13.0 in c:\\users\\darryl\\appdata\\roaming\\python\\python312\\site-packages (from rich->keras>=3.5.0->tensorflow-intel==2.18.0->tensorflow) (2.18.0)\n",
      "Requirement already satisfied: mdurl~=0.1 in c:\\users\\darryl\\appdata\\local\\programs\\python\\python312\\lib\\site-packages (from markdown-it-py>=2.2.0->rich->keras>=3.5.0->tensorflow-intel==2.18.0->tensorflow) (0.1.2)\n",
      "Note: you may need to restart the kernel to use updated packages.\n"
     ]
    }
   ],
   "source": [
    "%pip install numpy\n",
    "%pip install pandas\n",
    "%pip install matplotlib\n",
    "%pip install tensorflow"
   ]
  },
  {
   "cell_type": "code",
   "execution_count": 1,
   "metadata": {},
   "outputs": [
    {
     "name": "stdout",
     "output_type": "stream",
     "text": [
      "Num GPUs Available:  0\n"
     ]
    }
   ],
   "source": [
    "import tensorflow as tf\n",
    "print(\"Num GPUs Available: \", len(tf.config.list_physical_devices('GPU')))"
   ]
  },
  {
   "cell_type": "markdown",
   "metadata": {},
   "source": [
    "## Import Library"
   ]
  },
  {
   "cell_type": "code",
   "execution_count": 1,
   "metadata": {},
   "outputs": [],
   "source": [
    "import os\n",
    "import numpy as np\n",
    "import pandas as pd\n",
    "import matplotlib.pyplot as plt\n",
    "import tensorflow as tf"
   ]
  },
  {
   "cell_type": "markdown",
   "metadata": {},
   "source": [
    "## Load the Training and Test Sets"
   ]
  },
  {
   "cell_type": "code",
   "execution_count": 2,
   "metadata": {},
   "outputs": [
    {
     "name": "stdout",
     "output_type": "stream",
     "text": [
      "   Umur (bulan) Jenis Kelamin  Tinggi Badan (cm) Status Gizi\n",
      "0            34     laki-laki              104.4      normal\n",
      "1            60     perempuan              117.8      normal\n",
      "2            18     perempuan               91.7      tinggi\n",
      "3            49     laki-laki              105.4      normal\n",
      "4            49     perempuan              103.2      normal\n",
      "   Umur (bulan) Jenis Kelamin  Tinggi Badan (cm)       Status Gizi\n",
      "0            44     laki-laki          92.400000           stunted\n",
      "1            52     perempuan         105.300000            normal\n",
      "2             7     perempuan          78.300000            tinggi\n",
      "3            13     laki-laki          68.200000  severely stunted\n",
      "4             1     perempuan          67.160292            tinggi\n"
     ]
    }
   ],
   "source": [
    "# Ganti sesuai lokasi dataset\n",
    "folderName = \"StuntingClassificationDataset\"\n",
    "trainFileName = \"train.csv\"\n",
    "testFileName = \"test.csv\"\n",
    "\n",
    "train_path = os.path.join(os.getcwd(), 'data', folderName, trainFileName)\n",
    "train = pd.read_csv(train_path, header=0)\n",
    "\n",
    "test_path = os.path.join(os.getcwd(), 'data', folderName, testFileName)\n",
    "test = pd.read_csv(test_path, header=0)\n",
    "\n",
    "print(train.head())\n",
    "print(test.head())"
   ]
  },
  {
   "cell_type": "markdown",
   "metadata": {},
   "source": [
    "## Convert Categorical Column Into One-Hot Encoded Column"
   ]
  },
  {
   "cell_type": "code",
   "execution_count": 3,
   "metadata": {},
   "outputs": [
    {
     "name": "stdout",
     "output_type": "stream",
     "text": [
      "   Umur (bulan)  Jenis Kelamin  Tinggi Badan (cm)  Status Gizi\n",
      "0            34              0              104.4            2\n",
      "1            60              1              117.8            2\n",
      "2            18              1               91.7            3\n",
      "3            49              0              105.4            2\n",
      "4            49              1              103.2            2\n",
      "   Umur (bulan)  Jenis Kelamin  Tinggi Badan (cm)  Status Gizi\n",
      "0            44              0          92.400000            1\n",
      "1            52              1         105.300000            2\n",
      "2             7              1          78.300000            3\n",
      "3            13              0          68.200000            0\n",
      "4             1              1          67.160292            3\n"
     ]
    }
   ],
   "source": [
    "train['Jenis Kelamin'] = train['Jenis Kelamin'].map({'laki-laki': 0, 'perempuan': 1})\n",
    "train['Status Gizi'] = train['Status Gizi'].map({'severely stunted': 0, 'stunted': 1, 'normal': 2, 'tinggi': 3})\n",
    "\n",
    "test['Jenis Kelamin'] = test['Jenis Kelamin'].map({'laki-laki': 0, 'perempuan': 1})\n",
    "test['Status Gizi'] = test['Status Gizi'].map({'severely stunted': 0, 'stunted': 1, 'normal': 2, 'tinggi': 3})\n",
    "\n",
    "print(train.head())\n",
    "print(test.head())"
   ]
  },
  {
   "cell_type": "markdown",
   "metadata": {},
   "source": [
    "## Split The Dataset Into Features And Label"
   ]
  },
  {
   "cell_type": "code",
   "execution_count": 4,
   "metadata": {},
   "outputs": [
    {
     "name": "stdout",
     "output_type": "stream",
     "text": [
      "[[ 34.    0.  104.4]\n",
      " [ 60.    1.  117.8]\n",
      " [ 18.    1.   91.7]\n",
      " ...\n",
      " [ 32.    1.  108. ]\n",
      " [ 36.    0.   88.3]\n",
      " [ 60.    0.  112.4]]\n",
      "[2 2 3 ... 3 1 2]\n",
      "[[ 44.    0.   92.4]\n",
      " [ 52.    1.  105.3]\n",
      " [  7.    1.   78.3]\n",
      " ...\n",
      " [ 23.    0.   81.2]\n",
      " [ 23.    1.   91.4]\n",
      " [ 46.    1.  112.2]]\n",
      "[1 2 3 ... 2 2 2]\n"
     ]
    }
   ],
   "source": [
    "xtrain = train[['Umur (bulan)', 'Jenis Kelamin','Tinggi Badan (cm)']].values\n",
    "ytrain = train['Status Gizi'].values\n",
    "\n",
    "xtest = test[['Umur (bulan)', 'Jenis Kelamin','Tinggi Badan (cm)']].values\n",
    "ytest = test['Status Gizi'].values\n",
    "\n",
    "print(xtrain)\n",
    "print(ytrain)\n",
    "print(xtest)\n",
    "print(ytest)"
   ]
  },
  {
   "cell_type": "markdown",
   "metadata": {},
   "source": [
    "## Architechture Options"
   ]
  },
  {
   "cell_type": "code",
   "execution_count": null,
   "metadata": {},
   "outputs": [],
   "source": [
    "\"\"\"\n",
    "Available Layer Options (https://www.tensorflow.org/api_docs/python/tf/keras/layers)\n",
    "1. Input layer: tf.keras.Input(shape=(3,)) //Untuk input, shape menyesuaikan jumlah feature\n",
    "2. Dense\n",
    "\n",
    "Available Optimizer Options (https://www.tensorflow.org/api_docs/python/tf/keras/optimizers)\n",
    "1. SGD (Stochastic Gradient Descent): tf.keras.optimizers.SGD() or 'sgd'\n",
    "2. Adam (Adaptive Moment Estimation): tf.keras.optimizers.Adam() or 'sgd'\n",
    "3. RMSprop (Root Mean Square Propagation): tf.keras.optimizers.RMSprop() or 'rmsprop'\n",
    "4. Adagrad (Adaptive Gradient Algorithm): tf.keras.optimizers.Adagrad() or 'adagrad'\n",
    "5. Adadelta: tf.keras.optimizers.Adadelta() or 'adadelta'\n",
    "6. Nadam (Nesterov-accelerated Adaptive Moment Estimation): tf.keras.optimizers.Nadam() or 'nadam'\n",
    "7. Ftrl (Follow The Regularized Leader): tf.keras.optimizers.Ftrl() or 'ftrl'\n",
    "8. Adamax (A Variant of Adam): tf.keras.optimizers.Adamax() or 'adamax'\n",
    "\n",
    "Available Losses Options ()\n",
    "\n",
    "Available Metrics ()\n",
    "\"\"\""
   ]
  },
  {
   "cell_type": "markdown",
   "metadata": {},
   "source": [
    "## Make the Model"
   ]
  },
  {
   "cell_type": "code",
   "execution_count": 5,
   "metadata": {},
   "outputs": [
    {
     "data": {
      "text/html": [
       "<pre style=\"white-space:pre;overflow-x:auto;line-height:normal;font-family:Menlo,'DejaVu Sans Mono',consolas,'Courier New',monospace\"><span style=\"font-weight: bold\">Model: \"sequential\"</span>\n",
       "</pre>\n"
      ],
      "text/plain": [
       "\u001b[1mModel: \"sequential\"\u001b[0m\n"
      ]
     },
     "metadata": {},
     "output_type": "display_data"
    },
    {
     "data": {
      "text/html": [
       "<pre style=\"white-space:pre;overflow-x:auto;line-height:normal;font-family:Menlo,'DejaVu Sans Mono',consolas,'Courier New',monospace\">┏━━━━━━━━━━━━━━━━━━━━━━━━━━━━━━━━━┳━━━━━━━━━━━━━━━━━━━━━━━━┳━━━━━━━━━━━━━━━┓\n",
       "┃<span style=\"font-weight: bold\"> Layer (type)                    </span>┃<span style=\"font-weight: bold\"> Output Shape           </span>┃<span style=\"font-weight: bold\">       Param # </span>┃\n",
       "┡━━━━━━━━━━━━━━━━━━━━━━━━━━━━━━━━━╇━━━━━━━━━━━━━━━━━━━━━━━━╇━━━━━━━━━━━━━━━┩\n",
       "│ dense (<span style=\"color: #0087ff; text-decoration-color: #0087ff\">Dense</span>)                   │ (<span style=\"color: #00d7ff; text-decoration-color: #00d7ff\">None</span>, <span style=\"color: #00af00; text-decoration-color: #00af00\">16</span>)             │            <span style=\"color: #00af00; text-decoration-color: #00af00\">64</span> │\n",
       "├─────────────────────────────────┼────────────────────────┼───────────────┤\n",
       "│ dense_1 (<span style=\"color: #0087ff; text-decoration-color: #0087ff\">Dense</span>)                 │ (<span style=\"color: #00d7ff; text-decoration-color: #00d7ff\">None</span>, <span style=\"color: #00af00; text-decoration-color: #00af00\">4</span>)              │            <span style=\"color: #00af00; text-decoration-color: #00af00\">68</span> │\n",
       "└─────────────────────────────────┴────────────────────────┴───────────────┘\n",
       "</pre>\n"
      ],
      "text/plain": [
       "┏━━━━━━━━━━━━━━━━━━━━━━━━━━━━━━━━━┳━━━━━━━━━━━━━━━━━━━━━━━━┳━━━━━━━━━━━━━━━┓\n",
       "┃\u001b[1m \u001b[0m\u001b[1mLayer (type)                   \u001b[0m\u001b[1m \u001b[0m┃\u001b[1m \u001b[0m\u001b[1mOutput Shape          \u001b[0m\u001b[1m \u001b[0m┃\u001b[1m \u001b[0m\u001b[1m      Param #\u001b[0m\u001b[1m \u001b[0m┃\n",
       "┡━━━━━━━━━━━━━━━━━━━━━━━━━━━━━━━━━╇━━━━━━━━━━━━━━━━━━━━━━━━╇━━━━━━━━━━━━━━━┩\n",
       "│ dense (\u001b[38;5;33mDense\u001b[0m)                   │ (\u001b[38;5;45mNone\u001b[0m, \u001b[38;5;34m16\u001b[0m)             │            \u001b[38;5;34m64\u001b[0m │\n",
       "├─────────────────────────────────┼────────────────────────┼───────────────┤\n",
       "│ dense_1 (\u001b[38;5;33mDense\u001b[0m)                 │ (\u001b[38;5;45mNone\u001b[0m, \u001b[38;5;34m4\u001b[0m)              │            \u001b[38;5;34m68\u001b[0m │\n",
       "└─────────────────────────────────┴────────────────────────┴───────────────┘\n"
      ]
     },
     "metadata": {},
     "output_type": "display_data"
    },
    {
     "data": {
      "text/html": [
       "<pre style=\"white-space:pre;overflow-x:auto;line-height:normal;font-family:Menlo,'DejaVu Sans Mono',consolas,'Courier New',monospace\"><span style=\"font-weight: bold\"> Total params: </span><span style=\"color: #00af00; text-decoration-color: #00af00\">132</span> (528.00 B)\n",
       "</pre>\n"
      ],
      "text/plain": [
       "\u001b[1m Total params: \u001b[0m\u001b[38;5;34m132\u001b[0m (528.00 B)\n"
      ]
     },
     "metadata": {},
     "output_type": "display_data"
    },
    {
     "data": {
      "text/html": [
       "<pre style=\"white-space:pre;overflow-x:auto;line-height:normal;font-family:Menlo,'DejaVu Sans Mono',consolas,'Courier New',monospace\"><span style=\"font-weight: bold\"> Trainable params: </span><span style=\"color: #00af00; text-decoration-color: #00af00\">132</span> (528.00 B)\n",
       "</pre>\n"
      ],
      "text/plain": [
       "\u001b[1m Trainable params: \u001b[0m\u001b[38;5;34m132\u001b[0m (528.00 B)\n"
      ]
     },
     "metadata": {},
     "output_type": "display_data"
    },
    {
     "data": {
      "text/html": [
       "<pre style=\"white-space:pre;overflow-x:auto;line-height:normal;font-family:Menlo,'DejaVu Sans Mono',consolas,'Courier New',monospace\"><span style=\"font-weight: bold\"> Non-trainable params: </span><span style=\"color: #00af00; text-decoration-color: #00af00\">0</span> (0.00 B)\n",
       "</pre>\n"
      ],
      "text/plain": [
       "\u001b[1m Non-trainable params: \u001b[0m\u001b[38;5;34m0\u001b[0m (0.00 B)\n"
      ]
     },
     "metadata": {},
     "output_type": "display_data"
    }
   ],
   "source": [
    "optimizer = 'adam'\n",
    "loss = tf.keras.losses.SparseCategoricalCrossentropy()\n",
    "metrics = ['accuracy']\n",
    "\n",
    "model = tf.keras.Sequential([\n",
    "    tf.keras.Input(shape=(3,)),\n",
    "    tf.keras.layers.Dense(units=16, activation=\"relu\"),\n",
    "    tf.keras.layers.Dense(units=4, activation=\"softmax\")\n",
    "])\n",
    "model.compile(\n",
    "    optimizer=optimizer,\n",
    "    loss=loss,\n",
    "    metrics=metrics\n",
    ")\n",
    "model.summary()"
   ]
  },
  {
   "cell_type": "markdown",
   "metadata": {},
   "source": [
    "## Train the Model"
   ]
  },
  {
   "cell_type": "code",
   "execution_count": 6,
   "metadata": {},
   "outputs": [
    {
     "name": "stdout",
     "output_type": "stream",
     "text": [
      "Epoch 1/100\n",
      "\u001b[1m3706/3706\u001b[0m \u001b[32m━━━━━━━━━━━━━━━━━━━━\u001b[0m\u001b[37m\u001b[0m \u001b[1m2s\u001b[0m 500us/step - accuracy: 0.5282 - loss: 2.5730 - val_accuracy: 0.5831 - val_loss: 0.9997\n",
      "Epoch 2/100\n",
      "\u001b[1m3706/3706\u001b[0m \u001b[32m━━━━━━━━━━━━━━━━━━━━\u001b[0m\u001b[37m\u001b[0m \u001b[1m2s\u001b[0m 485us/step - accuracy: 0.5994 - loss: 0.9522 - val_accuracy: 0.6157 - val_loss: 0.8587\n",
      "Epoch 3/100\n",
      "\u001b[1m3706/3706\u001b[0m \u001b[32m━━━━━━━━━━━━━━━━━━━━\u001b[0m\u001b[37m\u001b[0m \u001b[1m3s\u001b[0m 465us/step - accuracy: 0.6372 - loss: 0.8383 - val_accuracy: 0.6471 - val_loss: 0.7769\n",
      "Epoch 4/100\n",
      "\u001b[1m3706/3706\u001b[0m \u001b[32m━━━━━━━━━━━━━━━━━━━━\u001b[0m\u001b[37m\u001b[0m \u001b[1m2s\u001b[0m 448us/step - accuracy: 0.6944 - loss: 0.7442 - val_accuracy: 0.7517 - val_loss: 0.6872\n",
      "Epoch 5/100\n",
      "\u001b[1m3706/3706\u001b[0m \u001b[32m━━━━━━━━━━━━━━━━━━━━\u001b[0m\u001b[37m\u001b[0m \u001b[1m2s\u001b[0m 439us/step - accuracy: 0.7305 - loss: 0.6799 - val_accuracy: 0.7244 - val_loss: 0.6781\n",
      "Epoch 6/100\n",
      "\u001b[1m3706/3706\u001b[0m \u001b[32m━━━━━━━━━━━━━━━━━━━━\u001b[0m\u001b[37m\u001b[0m \u001b[1m2s\u001b[0m 441us/step - accuracy: 0.7453 - loss: 0.6407 - val_accuracy: 0.7550 - val_loss: 0.6109\n",
      "Epoch 7/100\n",
      "\u001b[1m3706/3706\u001b[0m \u001b[32m━━━━━━━━━━━━━━━━━━━━\u001b[0m\u001b[37m\u001b[0m \u001b[1m2s\u001b[0m 443us/step - accuracy: 0.7557 - loss: 0.6133 - val_accuracy: 0.7686 - val_loss: 0.5952\n",
      "Epoch 8/100\n",
      "\u001b[1m3706/3706\u001b[0m \u001b[32m━━━━━━━━━━━━━━━━━━━━\u001b[0m\u001b[37m\u001b[0m \u001b[1m2s\u001b[0m 437us/step - accuracy: 0.7605 - loss: 0.5974 - val_accuracy: 0.7669 - val_loss: 0.5793\n",
      "Epoch 9/100\n",
      "\u001b[1m3706/3706\u001b[0m \u001b[32m━━━━━━━━━━━━━━━━━━━━\u001b[0m\u001b[37m\u001b[0m \u001b[1m2s\u001b[0m 438us/step - accuracy: 0.7629 - loss: 0.5844 - val_accuracy: 0.7595 - val_loss: 0.5779\n",
      "Epoch 10/100\n",
      "\u001b[1m3706/3706\u001b[0m \u001b[32m━━━━━━━━━━━━━━━━━━━━\u001b[0m\u001b[37m\u001b[0m \u001b[1m2s\u001b[0m 443us/step - accuracy: 0.7627 - loss: 0.5791 - val_accuracy: 0.7339 - val_loss: 0.5974\n",
      "Epoch 11/100\n",
      "\u001b[1m3706/3706\u001b[0m \u001b[32m━━━━━━━━━━━━━━━━━━━━\u001b[0m\u001b[37m\u001b[0m \u001b[1m2s\u001b[0m 438us/step - accuracy: 0.7628 - loss: 0.5784 - val_accuracy: 0.7612 - val_loss: 0.5680\n",
      "Epoch 12/100\n",
      "\u001b[1m3706/3706\u001b[0m \u001b[32m━━━━━━━━━━━━━━━━━━━━\u001b[0m\u001b[37m\u001b[0m \u001b[1m2s\u001b[0m 443us/step - accuracy: 0.7611 - loss: 0.5764 - val_accuracy: 0.7558 - val_loss: 0.5641\n",
      "Epoch 13/100\n",
      "\u001b[1m3706/3706\u001b[0m \u001b[32m━━━━━━━━━━━━━━━━━━━━\u001b[0m\u001b[37m\u001b[0m \u001b[1m2s\u001b[0m 438us/step - accuracy: 0.7654 - loss: 0.5725 - val_accuracy: 0.7835 - val_loss: 0.5821\n",
      "Epoch 14/100\n",
      "\u001b[1m3706/3706\u001b[0m \u001b[32m━━━━━━━━━━━━━━━━━━━━\u001b[0m\u001b[37m\u001b[0m \u001b[1m2s\u001b[0m 437us/step - accuracy: 0.7649 - loss: 0.5720 - val_accuracy: 0.7579 - val_loss: 0.5647\n",
      "Epoch 15/100\n",
      "\u001b[1m3706/3706\u001b[0m \u001b[32m━━━━━━━━━━━━━━━━━━━━\u001b[0m\u001b[37m\u001b[0m \u001b[1m2s\u001b[0m 431us/step - accuracy: 0.7658 - loss: 0.5672 - val_accuracy: 0.7731 - val_loss: 0.5683\n",
      "Epoch 16/100\n",
      "\u001b[1m3706/3706\u001b[0m \u001b[32m━━━━━━━━━━━━━━━━━━━━\u001b[0m\u001b[37m\u001b[0m \u001b[1m2s\u001b[0m 436us/step - accuracy: 0.7655 - loss: 0.5696 - val_accuracy: 0.7764 - val_loss: 0.5585\n",
      "Epoch 17/100\n",
      "\u001b[1m3706/3706\u001b[0m \u001b[32m━━━━━━━━━━━━━━━━━━━━\u001b[0m\u001b[37m\u001b[0m \u001b[1m2s\u001b[0m 441us/step - accuracy: 0.7660 - loss: 0.5646 - val_accuracy: 0.7583 - val_loss: 0.5628\n",
      "Epoch 18/100\n",
      "\u001b[1m3706/3706\u001b[0m \u001b[32m━━━━━━━━━━━━━━━━━━━━\u001b[0m\u001b[37m\u001b[0m \u001b[1m2s\u001b[0m 436us/step - accuracy: 0.7639 - loss: 0.5744 - val_accuracy: 0.7748 - val_loss: 0.5705\n",
      "Epoch 19/100\n",
      "\u001b[1m3706/3706\u001b[0m \u001b[32m━━━━━━━━━━━━━━━━━━━━\u001b[0m\u001b[37m\u001b[0m \u001b[1m2s\u001b[0m 438us/step - accuracy: 0.7667 - loss: 0.5678 - val_accuracy: 0.7707 - val_loss: 0.5601\n",
      "Epoch 20/100\n",
      "\u001b[1m3706/3706\u001b[0m \u001b[32m━━━━━━━━━━━━━━━━━━━━\u001b[0m\u001b[37m\u001b[0m \u001b[1m2s\u001b[0m 435us/step - accuracy: 0.7684 - loss: 0.5656 - val_accuracy: 0.7558 - val_loss: 0.5707\n",
      "Epoch 21/100\n",
      "\u001b[1m3706/3706\u001b[0m \u001b[32m━━━━━━━━━━━━━━━━━━━━\u001b[0m\u001b[37m\u001b[0m \u001b[1m2s\u001b[0m 428us/step - accuracy: 0.7665 - loss: 0.5678 - val_accuracy: 0.7661 - val_loss: 0.5601\n",
      "Epoch 22/100\n",
      "\u001b[1m3706/3706\u001b[0m \u001b[32m━━━━━━━━━━━━━━━━━━━━\u001b[0m\u001b[37m\u001b[0m \u001b[1m2s\u001b[0m 440us/step - accuracy: 0.7674 - loss: 0.5661 - val_accuracy: 0.7756 - val_loss: 0.5726\n",
      "Epoch 23/100\n",
      "\u001b[1m3706/3706\u001b[0m \u001b[32m━━━━━━━━━━━━━━━━━━━━\u001b[0m\u001b[37m\u001b[0m \u001b[1m2s\u001b[0m 429us/step - accuracy: 0.7651 - loss: 0.5687 - val_accuracy: 0.7533 - val_loss: 0.5653\n",
      "Epoch 24/100\n",
      "\u001b[1m3706/3706\u001b[0m \u001b[32m━━━━━━━━━━━━━━━━━━━━\u001b[0m\u001b[37m\u001b[0m \u001b[1m2s\u001b[0m 430us/step - accuracy: 0.7674 - loss: 0.5663 - val_accuracy: 0.7570 - val_loss: 0.5610\n",
      "Epoch 25/100\n",
      "\u001b[1m3706/3706\u001b[0m \u001b[32m━━━━━━━━━━━━━━━━━━━━\u001b[0m\u001b[37m\u001b[0m \u001b[1m2s\u001b[0m 455us/step - accuracy: 0.7661 - loss: 0.5730 - val_accuracy: 0.7657 - val_loss: 0.5552\n",
      "Epoch 26/100\n",
      "\u001b[1m3706/3706\u001b[0m \u001b[32m━━━━━━━━━━━━━━━━━━━━\u001b[0m\u001b[37m\u001b[0m \u001b[1m2s\u001b[0m 452us/step - accuracy: 0.7641 - loss: 0.5719 - val_accuracy: 0.7599 - val_loss: 0.5576\n",
      "Epoch 27/100\n",
      "\u001b[1m3706/3706\u001b[0m \u001b[32m━━━━━━━━━━━━━━━━━━━━\u001b[0m\u001b[37m\u001b[0m \u001b[1m2s\u001b[0m 460us/step - accuracy: 0.7683 - loss: 0.5661 - val_accuracy: 0.7628 - val_loss: 0.5645\n",
      "Epoch 28/100\n",
      "\u001b[1m3706/3706\u001b[0m \u001b[32m━━━━━━━━━━━━━━━━━━━━\u001b[0m\u001b[37m\u001b[0m \u001b[1m2s\u001b[0m 448us/step - accuracy: 0.7748 - loss: 0.5537 - val_accuracy: 0.8669 - val_loss: 0.4114\n",
      "Epoch 29/100\n",
      "\u001b[1m3706/3706\u001b[0m \u001b[32m━━━━━━━━━━━━━━━━━━━━\u001b[0m\u001b[37m\u001b[0m \u001b[1m2s\u001b[0m 450us/step - accuracy: 0.8659 - loss: 0.3909 - val_accuracy: 0.8781 - val_loss: 0.3528\n",
      "Epoch 30/100\n",
      "\u001b[1m3706/3706\u001b[0m \u001b[32m━━━━━━━━━━━━━━━━━━━━\u001b[0m\u001b[37m\u001b[0m \u001b[1m2s\u001b[0m 433us/step - accuracy: 0.8788 - loss: 0.3545 - val_accuracy: 0.8884 - val_loss: 0.3304\n",
      "Epoch 31/100\n",
      "\u001b[1m3706/3706\u001b[0m \u001b[32m━━━━━━━━━━━━━━━━━━━━\u001b[0m\u001b[37m\u001b[0m \u001b[1m2s\u001b[0m 438us/step - accuracy: 0.8866 - loss: 0.3284 - val_accuracy: 0.9037 - val_loss: 0.3082\n",
      "Epoch 32/100\n",
      "\u001b[1m3706/3706\u001b[0m \u001b[32m━━━━━━━━━━━━━━━━━━━━\u001b[0m\u001b[37m\u001b[0m \u001b[1m2s\u001b[0m 426us/step - accuracy: 0.8915 - loss: 0.3128 - val_accuracy: 0.8719 - val_loss: 0.3232\n",
      "Epoch 33/100\n",
      "\u001b[1m3706/3706\u001b[0m \u001b[32m━━━━━━━━━━━━━━━━━━━━\u001b[0m\u001b[37m\u001b[0m \u001b[1m2s\u001b[0m 432us/step - accuracy: 0.8974 - loss: 0.2982 - val_accuracy: 0.9062 - val_loss: 0.2886\n",
      "Epoch 34/100\n",
      "\u001b[1m3706/3706\u001b[0m \u001b[32m━━━━━━━━━━━━━━━━━━━━\u001b[0m\u001b[37m\u001b[0m \u001b[1m2s\u001b[0m 431us/step - accuracy: 0.8985 - loss: 0.2876 - val_accuracy: 0.8901 - val_loss: 0.2960\n",
      "Epoch 35/100\n",
      "\u001b[1m3706/3706\u001b[0m \u001b[32m━━━━━━━━━━━━━━━━━━━━\u001b[0m\u001b[37m\u001b[0m \u001b[1m2s\u001b[0m 435us/step - accuracy: 0.8987 - loss: 0.2817 - val_accuracy: 0.9103 - val_loss: 0.2765\n",
      "Epoch 36/100\n",
      "\u001b[1m3706/3706\u001b[0m \u001b[32m━━━━━━━━━━━━━━━━━━━━\u001b[0m\u001b[37m\u001b[0m \u001b[1m2s\u001b[0m 439us/step - accuracy: 0.8988 - loss: 0.2755 - val_accuracy: 0.9124 - val_loss: 0.2636\n",
      "Epoch 37/100\n",
      "\u001b[1m3706/3706\u001b[0m \u001b[32m━━━━━━━━━━━━━━━━━━━━\u001b[0m\u001b[37m\u001b[0m \u001b[1m2s\u001b[0m 443us/step - accuracy: 0.8996 - loss: 0.2690 - val_accuracy: 0.9095 - val_loss: 0.2606\n",
      "Epoch 38/100\n",
      "\u001b[1m3706/3706\u001b[0m \u001b[32m━━━━━━━━━━━━━━━━━━━━\u001b[0m\u001b[37m\u001b[0m \u001b[1m2s\u001b[0m 433us/step - accuracy: 0.8977 - loss: 0.2677 - val_accuracy: 0.9037 - val_loss: 0.2564\n",
      "Epoch 39/100\n",
      "\u001b[1m3706/3706\u001b[0m \u001b[32m━━━━━━━━━━━━━━━━━━━━\u001b[0m\u001b[37m\u001b[0m \u001b[1m2s\u001b[0m 433us/step - accuracy: 0.9007 - loss: 0.2600 - val_accuracy: 0.8839 - val_loss: 0.2835\n",
      "Epoch 40/100\n",
      "\u001b[1m3706/3706\u001b[0m \u001b[32m━━━━━━━━━━━━━━━━━━━━\u001b[0m\u001b[37m\u001b[0m \u001b[1m2s\u001b[0m 428us/step - accuracy: 0.9014 - loss: 0.2590 - val_accuracy: 0.9112 - val_loss: 0.2506\n",
      "Epoch 41/100\n",
      "\u001b[1m3706/3706\u001b[0m \u001b[32m━━━━━━━━━━━━━━━━━━━━\u001b[0m\u001b[37m\u001b[0m \u001b[1m2s\u001b[0m 443us/step - accuracy: 0.8992 - loss: 0.2576 - val_accuracy: 0.8835 - val_loss: 0.2744\n",
      "Epoch 42/100\n",
      "\u001b[1m3706/3706\u001b[0m \u001b[32m━━━━━━━━━━━━━━━━━━━━\u001b[0m\u001b[37m\u001b[0m \u001b[1m2s\u001b[0m 429us/step - accuracy: 0.9011 - loss: 0.2530 - val_accuracy: 0.9058 - val_loss: 0.2499\n",
      "Epoch 43/100\n",
      "\u001b[1m3706/3706\u001b[0m \u001b[32m━━━━━━━━━━━━━━━━━━━━\u001b[0m\u001b[37m\u001b[0m \u001b[1m2s\u001b[0m 439us/step - accuracy: 0.8998 - loss: 0.2532 - val_accuracy: 0.9050 - val_loss: 0.2447\n",
      "Epoch 44/100\n",
      "\u001b[1m3706/3706\u001b[0m \u001b[32m━━━━━━━━━━━━━━━━━━━━\u001b[0m\u001b[37m\u001b[0m \u001b[1m2s\u001b[0m 431us/step - accuracy: 0.9027 - loss: 0.2458 - val_accuracy: 0.9116 - val_loss: 0.2406\n",
      "Epoch 45/100\n",
      "\u001b[1m3706/3706\u001b[0m \u001b[32m━━━━━━━━━━━━━━━━━━━━\u001b[0m\u001b[37m\u001b[0m \u001b[1m2s\u001b[0m 436us/step - accuracy: 0.9013 - loss: 0.2479 - val_accuracy: 0.9153 - val_loss: 0.2430\n",
      "Epoch 46/100\n",
      "\u001b[1m3706/3706\u001b[0m \u001b[32m━━━━━━━━━━━━━━━━━━━━\u001b[0m\u001b[37m\u001b[0m \u001b[1m2s\u001b[0m 437us/step - accuracy: 0.9019 - loss: 0.2452 - val_accuracy: 0.8913 - val_loss: 0.2549\n",
      "Epoch 47/100\n",
      "\u001b[1m3706/3706\u001b[0m \u001b[32m━━━━━━━━━━━━━━━━━━━━\u001b[0m\u001b[37m\u001b[0m \u001b[1m2s\u001b[0m 429us/step - accuracy: 0.9011 - loss: 0.2440 - val_accuracy: 0.9169 - val_loss: 0.2372\n",
      "Epoch 48/100\n",
      "\u001b[1m3706/3706\u001b[0m \u001b[32m━━━━━━━━━━━━━━━━━━━━\u001b[0m\u001b[37m\u001b[0m \u001b[1m2s\u001b[0m 426us/step - accuracy: 0.8999 - loss: 0.2456 - val_accuracy: 0.9012 - val_loss: 0.2379\n",
      "Epoch 49/100\n",
      "\u001b[1m3706/3706\u001b[0m \u001b[32m━━━━━━━━━━━━━━━━━━━━\u001b[0m\u001b[37m\u001b[0m \u001b[1m2s\u001b[0m 436us/step - accuracy: 0.9004 - loss: 0.2430 - val_accuracy: 0.9017 - val_loss: 0.2376\n",
      "Epoch 50/100\n",
      "\u001b[1m3706/3706\u001b[0m \u001b[32m━━━━━━━━━━━━━━━━━━━━\u001b[0m\u001b[37m\u001b[0m \u001b[1m2s\u001b[0m 430us/step - accuracy: 0.9027 - loss: 0.2396 - val_accuracy: 0.8988 - val_loss: 0.2570\n",
      "Epoch 51/100\n",
      "\u001b[1m3706/3706\u001b[0m \u001b[32m━━━━━━━━━━━━━━━━━━━━\u001b[0m\u001b[37m\u001b[0m \u001b[1m2s\u001b[0m 442us/step - accuracy: 0.8990 - loss: 0.2436 - val_accuracy: 0.9004 - val_loss: 0.2365\n",
      "Epoch 52/100\n",
      "\u001b[1m3706/3706\u001b[0m \u001b[32m━━━━━━━━━━━━━━━━━━━━\u001b[0m\u001b[37m\u001b[0m \u001b[1m2s\u001b[0m 430us/step - accuracy: 0.9003 - loss: 0.2419 - val_accuracy: 0.9107 - val_loss: 0.2411\n",
      "Epoch 53/100\n",
      "\u001b[1m3706/3706\u001b[0m \u001b[32m━━━━━━━━━━━━━━━━━━━━\u001b[0m\u001b[37m\u001b[0m \u001b[1m2s\u001b[0m 425us/step - accuracy: 0.8989 - loss: 0.2424 - val_accuracy: 0.8880 - val_loss: 0.2468\n",
      "Epoch 54/100\n",
      "\u001b[1m3706/3706\u001b[0m \u001b[32m━━━━━━━━━━━━━━━━━━━━\u001b[0m\u001b[37m\u001b[0m \u001b[1m2s\u001b[0m 421us/step - accuracy: 0.9017 - loss: 0.2389 - val_accuracy: 0.9054 - val_loss: 0.2361\n",
      "Epoch 55/100\n",
      "\u001b[1m3706/3706\u001b[0m \u001b[32m━━━━━━━━━━━━━━━━━━━━\u001b[0m\u001b[37m\u001b[0m \u001b[1m2s\u001b[0m 422us/step - accuracy: 0.9011 - loss: 0.2372 - val_accuracy: 0.9116 - val_loss: 0.2288\n",
      "Epoch 56/100\n",
      "\u001b[1m3706/3706\u001b[0m \u001b[32m━━━━━━━━━━━━━━━━━━━━\u001b[0m\u001b[37m\u001b[0m \u001b[1m2s\u001b[0m 442us/step - accuracy: 0.9026 - loss: 0.2357 - val_accuracy: 0.9021 - val_loss: 0.2329\n",
      "Epoch 57/100\n",
      "\u001b[1m3706/3706\u001b[0m \u001b[32m━━━━━━━━━━━━━━━━━━━━\u001b[0m\u001b[37m\u001b[0m \u001b[1m2s\u001b[0m 422us/step - accuracy: 0.9020 - loss: 0.2366 - val_accuracy: 0.9004 - val_loss: 0.2551\n",
      "Epoch 58/100\n",
      "\u001b[1m3706/3706\u001b[0m \u001b[32m━━━━━━━━━━━━━━━━━━━━\u001b[0m\u001b[37m\u001b[0m \u001b[1m2s\u001b[0m 429us/step - accuracy: 0.9012 - loss: 0.2363 - val_accuracy: 0.9062 - val_loss: 0.2378\n",
      "Epoch 59/100\n",
      "\u001b[1m3706/3706\u001b[0m \u001b[32m━━━━━━━━━━━━━━━━━━━━\u001b[0m\u001b[37m\u001b[0m \u001b[1m2s\u001b[0m 423us/step - accuracy: 0.9020 - loss: 0.2355 - val_accuracy: 0.9107 - val_loss: 0.2319\n",
      "Epoch 60/100\n",
      "\u001b[1m3706/3706\u001b[0m \u001b[32m━━━━━━━━━━━━━━━━━━━━\u001b[0m\u001b[37m\u001b[0m \u001b[1m2s\u001b[0m 427us/step - accuracy: 0.8986 - loss: 0.2402 - val_accuracy: 0.9004 - val_loss: 0.2490\n",
      "Epoch 61/100\n",
      "\u001b[1m3706/3706\u001b[0m \u001b[32m━━━━━━━━━━━━━━━━━━━━\u001b[0m\u001b[37m\u001b[0m \u001b[1m2s\u001b[0m 434us/step - accuracy: 0.9004 - loss: 0.2379 - val_accuracy: 0.9066 - val_loss: 0.2282\n",
      "Epoch 62/100\n",
      "\u001b[1m3706/3706\u001b[0m \u001b[32m━━━━━━━━━━━━━━━━━━━━\u001b[0m\u001b[37m\u001b[0m \u001b[1m2s\u001b[0m 429us/step - accuracy: 0.9001 - loss: 0.2363 - val_accuracy: 0.9062 - val_loss: 0.2378\n",
      "Epoch 63/100\n",
      "\u001b[1m3706/3706\u001b[0m \u001b[32m━━━━━━━━━━━━━━━━━━━━\u001b[0m\u001b[37m\u001b[0m \u001b[1m2s\u001b[0m 425us/step - accuracy: 0.9020 - loss: 0.2347 - val_accuracy: 0.9017 - val_loss: 0.2306\n",
      "Epoch 64/100\n",
      "\u001b[1m3706/3706\u001b[0m \u001b[32m━━━━━━━━━━━━━━━━━━━━\u001b[0m\u001b[37m\u001b[0m \u001b[1m2s\u001b[0m 427us/step - accuracy: 0.8989 - loss: 0.2359 - val_accuracy: 0.8860 - val_loss: 0.2446\n",
      "Epoch 65/100\n",
      "\u001b[1m3706/3706\u001b[0m \u001b[32m━━━━━━━━━━━━━━━━━━━━\u001b[0m\u001b[37m\u001b[0m \u001b[1m2s\u001b[0m 428us/step - accuracy: 0.9016 - loss: 0.2352 - val_accuracy: 0.9124 - val_loss: 0.2320\n",
      "Epoch 66/100\n",
      "\u001b[1m3706/3706\u001b[0m \u001b[32m━━━━━━━━━━━━━━━━━━━━\u001b[0m\u001b[37m\u001b[0m \u001b[1m2s\u001b[0m 437us/step - accuracy: 0.9016 - loss: 0.2325 - val_accuracy: 0.8950 - val_loss: 0.2394\n",
      "Epoch 67/100\n",
      "\u001b[1m3706/3706\u001b[0m \u001b[32m━━━━━━━━━━━━━━━━━━━━\u001b[0m\u001b[37m\u001b[0m \u001b[1m2s\u001b[0m 428us/step - accuracy: 0.9022 - loss: 0.2317 - val_accuracy: 0.9091 - val_loss: 0.2280\n",
      "Epoch 68/100\n",
      "\u001b[1m3706/3706\u001b[0m \u001b[32m━━━━━━━━━━━━━━━━━━━━\u001b[0m\u001b[37m\u001b[0m \u001b[1m2s\u001b[0m 430us/step - accuracy: 0.9001 - loss: 0.2352 - val_accuracy: 0.9140 - val_loss: 0.2240\n",
      "Epoch 69/100\n",
      "\u001b[1m3706/3706\u001b[0m \u001b[32m━━━━━━━━━━━━━━━━━━━━\u001b[0m\u001b[37m\u001b[0m \u001b[1m2s\u001b[0m 433us/step - accuracy: 0.9007 - loss: 0.2359 - val_accuracy: 0.9066 - val_loss: 0.2291\n",
      "Epoch 70/100\n",
      "\u001b[1m3706/3706\u001b[0m \u001b[32m━━━━━━━━━━━━━━━━━━━━\u001b[0m\u001b[37m\u001b[0m \u001b[1m2s\u001b[0m 433us/step - accuracy: 0.9028 - loss: 0.2314 - val_accuracy: 0.9021 - val_loss: 0.2266\n",
      "Epoch 71/100\n",
      "\u001b[1m3706/3706\u001b[0m \u001b[32m━━━━━━━━━━━━━━━━━━━━\u001b[0m\u001b[37m\u001b[0m \u001b[1m2s\u001b[0m 440us/step - accuracy: 0.9008 - loss: 0.2330 - val_accuracy: 0.9062 - val_loss: 0.2267\n",
      "Epoch 72/100\n",
      "\u001b[1m3706/3706\u001b[0m \u001b[32m━━━━━━━━━━━━━━━━━━━━\u001b[0m\u001b[37m\u001b[0m \u001b[1m2s\u001b[0m 430us/step - accuracy: 0.9014 - loss: 0.2356 - val_accuracy: 0.8591 - val_loss: 0.3102\n",
      "Epoch 73/100\n",
      "\u001b[1m3706/3706\u001b[0m \u001b[32m━━━━━━━━━━━━━━━━━━━━\u001b[0m\u001b[37m\u001b[0m \u001b[1m2s\u001b[0m 437us/step - accuracy: 0.9003 - loss: 0.2348 - val_accuracy: 0.9070 - val_loss: 0.2295\n",
      "Epoch 74/100\n",
      "\u001b[1m3706/3706\u001b[0m \u001b[32m━━━━━━━━━━━━━━━━━━━━\u001b[0m\u001b[37m\u001b[0m \u001b[1m2s\u001b[0m 433us/step - accuracy: 0.8996 - loss: 0.2348 - val_accuracy: 0.8975 - val_loss: 0.2597\n",
      "Epoch 75/100\n",
      "\u001b[1m3706/3706\u001b[0m \u001b[32m━━━━━━━━━━━━━━━━━━━━\u001b[0m\u001b[37m\u001b[0m \u001b[1m2s\u001b[0m 429us/step - accuracy: 0.9016 - loss: 0.2325 - val_accuracy: 0.9062 - val_loss: 0.2232\n",
      "Epoch 76/100\n",
      "\u001b[1m3706/3706\u001b[0m \u001b[32m━━━━━━━━━━━━━━━━━━━━\u001b[0m\u001b[37m\u001b[0m \u001b[1m2s\u001b[0m 440us/step - accuracy: 0.9025 - loss: 0.2315 - val_accuracy: 0.9070 - val_loss: 0.2433\n",
      "Epoch 77/100\n",
      "\u001b[1m3706/3706\u001b[0m \u001b[32m━━━━━━━━━━━━━━━━━━━━\u001b[0m\u001b[37m\u001b[0m \u001b[1m2s\u001b[0m 426us/step - accuracy: 0.9019 - loss: 0.2333 - val_accuracy: 0.8946 - val_loss: 0.2363\n",
      "Epoch 78/100\n",
      "\u001b[1m3706/3706\u001b[0m \u001b[32m━━━━━━━━━━━━━━━━━━━━\u001b[0m\u001b[37m\u001b[0m \u001b[1m2s\u001b[0m 423us/step - accuracy: 0.9002 - loss: 0.2350 - val_accuracy: 0.8996 - val_loss: 0.2367\n",
      "Epoch 79/100\n",
      "\u001b[1m3706/3706\u001b[0m \u001b[32m━━━━━━━━━━━━━━━━━━━━\u001b[0m\u001b[37m\u001b[0m \u001b[1m2s\u001b[0m 430us/step - accuracy: 0.9013 - loss: 0.2347 - val_accuracy: 0.9083 - val_loss: 0.2253\n",
      "Epoch 80/100\n",
      "\u001b[1m3706/3706\u001b[0m \u001b[32m━━━━━━━━━━━━━━━━━━━━\u001b[0m\u001b[37m\u001b[0m \u001b[1m2s\u001b[0m 432us/step - accuracy: 0.9018 - loss: 0.2325 - val_accuracy: 0.9099 - val_loss: 0.2306\n",
      "Epoch 81/100\n",
      "\u001b[1m3706/3706\u001b[0m \u001b[32m━━━━━━━━━━━━━━━━━━━━\u001b[0m\u001b[37m\u001b[0m \u001b[1m2s\u001b[0m 434us/step - accuracy: 0.9005 - loss: 0.2336 - val_accuracy: 0.9120 - val_loss: 0.2210\n",
      "Epoch 82/100\n",
      "\u001b[1m3706/3706\u001b[0m \u001b[32m━━━━━━━━━━━━━━━━━━━━\u001b[0m\u001b[37m\u001b[0m \u001b[1m2s\u001b[0m 427us/step - accuracy: 0.9019 - loss: 0.2333 - val_accuracy: 0.9025 - val_loss: 0.2251\n",
      "Epoch 83/100\n",
      "\u001b[1m3706/3706\u001b[0m \u001b[32m━━━━━━━━━━━━━━━━━━━━\u001b[0m\u001b[37m\u001b[0m \u001b[1m2s\u001b[0m 425us/step - accuracy: 0.9010 - loss: 0.2337 - val_accuracy: 0.9058 - val_loss: 0.2237\n",
      "Epoch 84/100\n",
      "\u001b[1m3706/3706\u001b[0m \u001b[32m━━━━━━━━━━━━━━━━━━━━\u001b[0m\u001b[37m\u001b[0m \u001b[1m2s\u001b[0m 415us/step - accuracy: 0.9022 - loss: 0.2319 - val_accuracy: 0.9087 - val_loss: 0.2369\n",
      "Epoch 85/100\n",
      "\u001b[1m3706/3706\u001b[0m \u001b[32m━━━━━━━━━━━━━━━━━━━━\u001b[0m\u001b[37m\u001b[0m \u001b[1m2s\u001b[0m 420us/step - accuracy: 0.9006 - loss: 0.2339 - val_accuracy: 0.9054 - val_loss: 0.2256\n",
      "Epoch 86/100\n",
      "\u001b[1m3706/3706\u001b[0m \u001b[32m━━━━━━━━━━━━━━━━━━━━\u001b[0m\u001b[37m\u001b[0m \u001b[1m2s\u001b[0m 435us/step - accuracy: 0.9029 - loss: 0.2316 - val_accuracy: 0.9062 - val_loss: 0.2438\n",
      "Epoch 87/100\n",
      "\u001b[1m3706/3706\u001b[0m \u001b[32m━━━━━━━━━━━━━━━━━━━━\u001b[0m\u001b[37m\u001b[0m \u001b[1m2s\u001b[0m 424us/step - accuracy: 0.9012 - loss: 0.2317 - val_accuracy: 0.9033 - val_loss: 0.2293\n",
      "Epoch 88/100\n",
      "\u001b[1m3706/3706\u001b[0m \u001b[32m━━━━━━━━━━━━━━━━━━━━\u001b[0m\u001b[37m\u001b[0m \u001b[1m2s\u001b[0m 417us/step - accuracy: 0.9017 - loss: 0.2325 - val_accuracy: 0.8905 - val_loss: 0.2607\n",
      "Epoch 89/100\n",
      "\u001b[1m3706/3706\u001b[0m \u001b[32m━━━━━━━━━━━━━━━━━━━━\u001b[0m\u001b[37m\u001b[0m \u001b[1m2s\u001b[0m 425us/step - accuracy: 0.9007 - loss: 0.2338 - val_accuracy: 0.8988 - val_loss: 0.2291\n",
      "Epoch 90/100\n",
      "\u001b[1m3706/3706\u001b[0m \u001b[32m━━━━━━━━━━━━━━━━━━━━\u001b[0m\u001b[37m\u001b[0m \u001b[1m2s\u001b[0m 426us/step - accuracy: 0.9007 - loss: 0.2348 - val_accuracy: 0.8988 - val_loss: 0.2462\n",
      "Epoch 91/100\n",
      "\u001b[1m3706/3706\u001b[0m \u001b[32m━━━━━━━━━━━━━━━━━━━━\u001b[0m\u001b[37m\u001b[0m \u001b[1m2s\u001b[0m 437us/step - accuracy: 0.9023 - loss: 0.2306 - val_accuracy: 0.9070 - val_loss: 0.2279\n",
      "Epoch 92/100\n",
      "\u001b[1m3706/3706\u001b[0m \u001b[32m━━━━━━━━━━━━━━━━━━━━\u001b[0m\u001b[37m\u001b[0m \u001b[1m2s\u001b[0m 425us/step - accuracy: 0.9008 - loss: 0.2320 - val_accuracy: 0.8897 - val_loss: 0.2393\n",
      "Epoch 93/100\n",
      "\u001b[1m3706/3706\u001b[0m \u001b[32m━━━━━━━━━━━━━━━━━━━━\u001b[0m\u001b[37m\u001b[0m \u001b[1m2s\u001b[0m 424us/step - accuracy: 0.9044 - loss: 0.2286 - val_accuracy: 0.9062 - val_loss: 0.2259\n",
      "Epoch 94/100\n",
      "\u001b[1m3706/3706\u001b[0m \u001b[32m━━━━━━━━━━━━━━━━━━━━\u001b[0m\u001b[37m\u001b[0m \u001b[1m2s\u001b[0m 427us/step - accuracy: 0.9005 - loss: 0.2334 - val_accuracy: 0.8967 - val_loss: 0.2351\n",
      "Epoch 95/100\n",
      "\u001b[1m3706/3706\u001b[0m \u001b[32m━━━━━━━━━━━━━━━━━━━━\u001b[0m\u001b[37m\u001b[0m \u001b[1m2s\u001b[0m 421us/step - accuracy: 0.9013 - loss: 0.2324 - val_accuracy: 0.9058 - val_loss: 0.2316\n",
      "Epoch 96/100\n",
      "\u001b[1m3706/3706\u001b[0m \u001b[32m━━━━━━━━━━━━━━━━━━━━\u001b[0m\u001b[37m\u001b[0m \u001b[1m2s\u001b[0m 429us/step - accuracy: 0.9014 - loss: 0.2338 - val_accuracy: 0.9112 - val_loss: 0.2208\n",
      "Epoch 97/100\n",
      "\u001b[1m3706/3706\u001b[0m \u001b[32m━━━━━━━━━━━━━━━━━━━━\u001b[0m\u001b[37m\u001b[0m \u001b[1m2s\u001b[0m 418us/step - accuracy: 0.9028 - loss: 0.2297 - val_accuracy: 0.9128 - val_loss: 0.2271\n",
      "Epoch 98/100\n",
      "\u001b[1m3706/3706\u001b[0m \u001b[32m━━━━━━━━━━━━━━━━━━━━\u001b[0m\u001b[37m\u001b[0m \u001b[1m2s\u001b[0m 428us/step - accuracy: 0.9020 - loss: 0.2321 - val_accuracy: 0.9091 - val_loss: 0.2197\n",
      "Epoch 99/100\n",
      "\u001b[1m3706/3706\u001b[0m \u001b[32m━━━━━━━━━━━━━━━━━━━━\u001b[0m\u001b[37m\u001b[0m \u001b[1m2s\u001b[0m 422us/step - accuracy: 0.9004 - loss: 0.2317 - val_accuracy: 0.9099 - val_loss: 0.2217\n",
      "Epoch 100/100\n",
      "\u001b[1m3706/3706\u001b[0m \u001b[32m━━━━━━━━━━━━━━━━━━━━\u001b[0m\u001b[37m\u001b[0m \u001b[1m2s\u001b[0m 425us/step - accuracy: 0.9002 - loss: 0.2311 - val_accuracy: 0.8963 - val_loss: 0.2348\n"
     ]
    }
   ],
   "source": [
    "# Ganti sesuai kebutuhan\n",
    "epochs = 100\n",
    "batch_size = 32\n",
    "\n",
    "history = model.fit(\n",
    "    xtrain,\n",
    "    ytrain,\n",
    "    epochs=epochs,\n",
    "    validation_data=(xtest, ytest),\n",
    "    batch_size=batch_size\n",
    ")"
   ]
  },
  {
   "cell_type": "markdown",
   "metadata": {},
   "source": [
    "## Manually Test Prediction"
   ]
  },
  {
   "cell_type": "code",
   "execution_count": 7,
   "metadata": {},
   "outputs": [
    {
     "name": "stdout",
     "output_type": "stream",
     "text": [
      "Testcase 0: Passed, confidence: 99.98%\n",
      "Testcase 1: Failed, expected: tinggi got: normal, confidence: 76.04%\n",
      "Testcase 2: Passed, confidence: 61.68%\n",
      "Testcase 3: Passed, confidence: 99.24%\n",
      "Testcase 4: Passed, confidence: 99.91%\n",
      "Testcase 5: Passed, confidence: 99.65%\n",
      "Testcase 6: Failed, expected: stunted got: severely stunted, confidence: 99.32%\n",
      "Testcase 7: Passed, confidence: 80.76%\n",
      "Testcase 8: Passed, confidence: 99.87%\n",
      "Testcase 9: Passed, confidence: 85.49%\n"
     ]
    }
   ],
   "source": [
    "manualTest = [\n",
    "    [[0, 0, 42.7434938911793],\"severely stunted\"],\n",
    "    [[0, 0, 58.493563524626], \"tinggi\"],\n",
    "    [[0, 0, 50.3967690206023],\"normal\"],\n",
    "    [[21, 1, 96.3],\"tinggi\"],\n",
    "    [[18, 0, 81.7],\"normal\"],\n",
    "    [[36, 0, 110.1],\"tinggi\"],\n",
    "    [[0, 0, 45.2517789938352],\"stunted\"],\n",
    "    [[41, 0, 89.5],\"stunted\"],\n",
    "    [[18, 1, 80.1],\"normal\"],\n",
    "    [[10, 1, 79.6],\"tinggi\"],\n",
    "]\n",
    "\n",
    "for i in range(len(manualTest)):\n",
    "    pred = np.array(manualTest[i][0]).reshape(1, -1)\n",
    "    pred_tensor = tf.convert_to_tensor(pred, dtype=tf.float32)\n",
    "    prediction = model.predict(pred_tensor, verbose=False)\n",
    "    index = np.argmax(prediction)\n",
    "    confidence = round(prediction[0][index] * 100, 2)\n",
    "    output = [\"severely stunted\", \"stunted\", \"normal\", \"tinggi\"][index]\n",
    "    if output == manualTest[i][1]:\n",
    "        print(f\"Testcase {i}: Passed, confidence: {confidence}%\")\n",
    "    else:\n",
    "        print(f\"Testcase {i}: Failed, expected: {manualTest[i][1]} got: {output}, confidence: {confidence}%\")"
   ]
  },
  {
   "cell_type": "markdown",
   "metadata": {},
   "source": [
    "## Evaluate The Model"
   ]
  },
  {
   "cell_type": "code",
   "execution_count": 8,
   "metadata": {},
   "outputs": [
    {
     "data": {
      "image/png": "[encoded data removed]",
      "text/plain": [
       "<Figure size 1200x500 with 2 Axes>"
      ]
     },
     "metadata": {},
     "output_type": "display_data"
    }
   ],
   "source": [
    "# Extract metrics from the history object\n",
    "epochs = range(1, len(history.history['accuracy']) + 1)\n",
    "train_acc = history.history['accuracy']\n",
    "val_acc = history.history['val_accuracy']\n",
    "train_loss = history.history['loss']\n",
    "val_loss = history.history['val_loss']\n",
    "\n",
    "# Plot accuracy\n",
    "plt.figure(figsize=(12, 5))\n",
    "\n",
    "plt.subplot(1, 2, 1)\n",
    "plt.plot(epochs, train_acc, 'b-', label='Training Accuracy')\n",
    "plt.plot(epochs, val_acc, 'r-', label='Validation Accuracy')\n",
    "plt.title('Training and Validation Accuracy')\n",
    "plt.xlabel('Epochs')\n",
    "plt.ylabel('Accuracy')\n",
    "plt.legend()\n",
    "\n",
    "# Plot loss\n",
    "plt.subplot(1, 2, 2)\n",
    "plt.plot(epochs, train_loss, 'b-', label='Training Loss')\n",
    "plt.plot(epochs, val_loss, 'r-', label='Validation Loss')\n",
    "plt.title('Training and Validation Loss')\n",
    "plt.xlabel('Epochs')\n",
    "plt.ylabel('Loss')\n",
    "plt.legend()\n",
    "\n",
    "plt.tight_layout()\n",
    "plt.show()"
   ]
  },
  {
   "cell_type": "markdown",
   "metadata": {},
   "source": [
    "## Save The Model"
   ]
  },
  {
   "cell_type": "code",
   "execution_count": 15,
   "metadata": {},
   "outputs": [],
   "source": [
    "fileName = \"StuntingClassificationModel\"\n",
    "folderName = \"model\"\n",
    "os.makedirs(os.path.join(os.getcwd(), folderName), exist_ok=True)\n",
    "model.save(os.path.join(os.getcwd(), folderName, fileName + \".keras\"))\n"
   ]
  }
 ],
 "metadata": {
  "kernelspec": {
   "display_name": "Python 3",
   "language": "python",
   "name": "python3"
  },
  "language_info": {
   "codemirror_mode": {
    "name": "ipython",
    "version": 3
   },
   "file_extension": ".py",
   "mimetype": "text/x-python",
   "name": "python",
   "nbconvert_exporter": "python",
   "pygments_lexer": "ipython3",
   "version": "3.12.6"
  }
 },
 "nbformat": 4,
 "nbformat_minor": 2
}
