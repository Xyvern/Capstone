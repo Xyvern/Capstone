{
 "cells": [
  {
   "cell_type": "markdown",
   "metadata": {},
   "source": [
    "# Stunting Classification Model\n"
   ]
  },
  {
   "cell_type": "markdown",
   "metadata": {},
   "source": [
    "## Install Dependencies"
   ]
  },
  {
   "cell_type": "code",
   "execution_count": 3,
   "metadata": {},
   "outputs": [
    {
     "name": "stdout",
     "output_type": "stream",
     "text": [
      "Requirement already satisfied: numpy in c:\\users\\darryl\\appdata\\local\\programs\\python\\python312\\lib\\site-packages (1.26.4)\n",
      "Note: you may need to restart the kernel to use updated packages.\n",
      "Requirement already satisfied: pandas in c:\\users\\darryl\\appdata\\local\\programs\\python\\python312\\lib\\site-packages (2.2.3)\n",
      "Requirement already satisfied: numpy>=1.26.0 in c:\\users\\darryl\\appdata\\local\\programs\\python\\python312\\lib\\site-packages (from pandas) (1.26.4)\n",
      "Requirement already satisfied: python-dateutil>=2.8.2 in c:\\users\\darryl\\appdata\\roaming\\python\\python312\\site-packages (from pandas) (2.9.0.post0)\n",
      "Requirement already satisfied: pytz>=2020.1 in c:\\users\\darryl\\appdata\\local\\programs\\python\\python312\\lib\\site-packages (from pandas) (2024.2)\n",
      "Requirement already satisfied: tzdata>=2022.7 in c:\\users\\darryl\\appdata\\local\\programs\\python\\python312\\lib\\site-packages (from pandas) (2024.2)\n",
      "Requirement already satisfied: six>=1.5 in c:\\users\\darryl\\appdata\\roaming\\python\\python312\\site-packages (from python-dateutil>=2.8.2->pandas) (1.16.0)\n",
      "Note: you may need to restart the kernel to use updated packages.\n",
      "Requirement already satisfied: matplotlib in c:\\users\\darryl\\appdata\\local\\programs\\python\\python312\\lib\\site-packages (3.9.2)\n",
      "Requirement already satisfied: contourpy>=1.0.1 in c:\\users\\darryl\\appdata\\local\\programs\\python\\python312\\lib\\site-packages (from matplotlib) (1.3.0)\n",
      "Requirement already satisfied: cycler>=0.10 in c:\\users\\darryl\\appdata\\local\\programs\\python\\python312\\lib\\site-packages (from matplotlib) (0.12.1)\n",
      "Requirement already satisfied: fonttools>=4.22.0 in c:\\users\\darryl\\appdata\\local\\programs\\python\\python312\\lib\\site-packages (from matplotlib) (4.54.1)\n",
      "Requirement already satisfied: kiwisolver>=1.3.1 in c:\\users\\darryl\\appdata\\local\\programs\\python\\python312\\lib\\site-packages (from matplotlib) (1.4.7)\n",
      "Requirement already satisfied: numpy>=1.23 in c:\\users\\darryl\\appdata\\local\\programs\\python\\python312\\lib\\site-packages (from matplotlib) (1.26.4)\n",
      "Requirement already satisfied: packaging>=20.0 in c:\\users\\darryl\\appdata\\local\\programs\\python\\python312\\lib\\site-packages (from matplotlib) (20.9)\n",
      "Requirement already satisfied: pillow>=8 in c:\\users\\darryl\\appdata\\local\\programs\\python\\python312\\lib\\site-packages (from matplotlib) (10.4.0)\n",
      "Requirement already satisfied: pyparsing>=2.3.1 in c:\\users\\darryl\\appdata\\local\\programs\\python\\python312\\lib\\site-packages (from matplotlib) (3.1.4)\n",
      "Requirement already satisfied: python-dateutil>=2.7 in c:\\users\\darryl\\appdata\\roaming\\python\\python312\\site-packages (from matplotlib) (2.9.0.post0)\n",
      "Requirement already satisfied: six>=1.5 in c:\\users\\darryl\\appdata\\roaming\\python\\python312\\site-packages (from python-dateutil>=2.7->matplotlib) (1.16.0)\n",
      "Note: you may need to restart the kernel to use updated packages.\n",
      "Requirement already satisfied: tensorflow in c:\\users\\darryl\\appdata\\local\\programs\\python\\python312\\lib\\site-packages (2.18.0)\n",
      "Requirement already satisfied: tensorflow-intel==2.18.0 in c:\\users\\darryl\\appdata\\local\\programs\\python\\python312\\lib\\site-packages (from tensorflow) (2.18.0)\n",
      "Requirement already satisfied: absl-py>=1.0.0 in c:\\users\\darryl\\appdata\\local\\programs\\python\\python312\\lib\\site-packages (from tensorflow-intel==2.18.0->tensorflow) (2.1.0)\n",
      "Requirement already satisfied: astunparse>=1.6.0 in c:\\users\\darryl\\appdata\\local\\programs\\python\\python312\\lib\\site-packages (from tensorflow-intel==2.18.0->tensorflow) (1.6.3)\n",
      "Requirement already satisfied: flatbuffers>=24.3.25 in c:\\users\\darryl\\appdata\\local\\programs\\python\\python312\\lib\\site-packages (from tensorflow-intel==2.18.0->tensorflow) (24.3.25)\n",
      "Requirement already satisfied: gast!=0.5.0,!=0.5.1,!=0.5.2,>=0.2.1 in c:\\users\\darryl\\appdata\\local\\programs\\python\\python312\\lib\\site-packages (from tensorflow-intel==2.18.0->tensorflow) (0.6.0)\n",
      "Requirement already satisfied: google-pasta>=0.1.1 in c:\\users\\darryl\\appdata\\local\\programs\\python\\python312\\lib\\site-packages (from tensorflow-intel==2.18.0->tensorflow) (0.2.0)\n",
      "Requirement already satisfied: libclang>=13.0.0 in c:\\users\\darryl\\appdata\\local\\programs\\python\\python312\\lib\\site-packages (from tensorflow-intel==2.18.0->tensorflow) (18.1.1)\n",
      "Requirement already satisfied: opt-einsum>=2.3.2 in c:\\users\\darryl\\appdata\\local\\programs\\python\\python312\\lib\\site-packages (from tensorflow-intel==2.18.0->tensorflow) (3.4.0)\n",
      "Requirement already satisfied: packaging in c:\\users\\darryl\\appdata\\local\\programs\\python\\python312\\lib\\site-packages (from tensorflow-intel==2.18.0->tensorflow) (20.9)\n",
      "Requirement already satisfied: protobuf!=4.21.0,!=4.21.1,!=4.21.2,!=4.21.3,!=4.21.4,!=4.21.5,<6.0.0dev,>=3.20.3 in c:\\users\\darryl\\appdata\\local\\programs\\python\\python312\\lib\\site-packages (from tensorflow-intel==2.18.0->tensorflow) (4.25.5)\n",
      "Requirement already satisfied: requests<3,>=2.21.0 in c:\\users\\darryl\\appdata\\local\\programs\\python\\python312\\lib\\site-packages (from tensorflow-intel==2.18.0->tensorflow) (2.32.3)\n",
      "Requirement already satisfied: setuptools in c:\\users\\darryl\\appdata\\local\\programs\\python\\python312\\lib\\site-packages (from tensorflow-intel==2.18.0->tensorflow) (75.1.0)\n",
      "Requirement already satisfied: six>=1.12.0 in c:\\users\\darryl\\appdata\\roaming\\python\\python312\\site-packages (from tensorflow-intel==2.18.0->tensorflow) (1.16.0)\n",
      "Requirement already satisfied: termcolor>=1.1.0 in c:\\users\\darryl\\appdata\\local\\programs\\python\\python312\\lib\\site-packages (from tensorflow-intel==2.18.0->tensorflow) (2.5.0)\n",
      "Requirement already satisfied: typing-extensions>=3.6.6 in c:\\users\\darryl\\appdata\\local\\programs\\python\\python312\\lib\\site-packages (from tensorflow-intel==2.18.0->tensorflow) (4.12.2)\n",
      "Requirement already satisfied: wrapt>=1.11.0 in c:\\users\\darryl\\appdata\\local\\programs\\python\\python312\\lib\\site-packages (from tensorflow-intel==2.18.0->tensorflow) (1.16.0)\n",
      "Requirement already satisfied: grpcio<2.0,>=1.24.3 in c:\\users\\darryl\\appdata\\local\\programs\\python\\python312\\lib\\site-packages (from tensorflow-intel==2.18.0->tensorflow) (1.67.0)\n",
      "Requirement already satisfied: tensorboard<2.19,>=2.18 in c:\\users\\darryl\\appdata\\local\\programs\\python\\python312\\lib\\site-packages (from tensorflow-intel==2.18.0->tensorflow) (2.18.0)\n",
      "Requirement already satisfied: keras>=3.5.0 in c:\\users\\darryl\\appdata\\local\\programs\\python\\python312\\lib\\site-packages (from tensorflow-intel==2.18.0->tensorflow) (3.6.0)\n",
      "Requirement already satisfied: numpy<2.1.0,>=1.26.0 in c:\\users\\darryl\\appdata\\local\\programs\\python\\python312\\lib\\site-packages (from tensorflow-intel==2.18.0->tensorflow) (1.26.4)\n",
      "Requirement already satisfied: h5py>=3.11.0 in c:\\users\\darryl\\appdata\\local\\programs\\python\\python312\\lib\\site-packages (from tensorflow-intel==2.18.0->tensorflow) (3.12.1)\n",
      "Requirement already satisfied: ml-dtypes<0.5.0,>=0.4.0 in c:\\users\\darryl\\appdata\\local\\programs\\python\\python312\\lib\\site-packages (from tensorflow-intel==2.18.0->tensorflow) (0.4.1)\n",
      "Requirement already satisfied: wheel<1.0,>=0.23.0 in c:\\users\\darryl\\appdata\\local\\programs\\python\\python312\\lib\\site-packages (from astunparse>=1.6.0->tensorflow-intel==2.18.0->tensorflow) (0.44.0)\n",
      "Requirement already satisfied: rich in c:\\users\\darryl\\appdata\\local\\programs\\python\\python312\\lib\\site-packages (from keras>=3.5.0->tensorflow-intel==2.18.0->tensorflow) (13.9.1)\n",
      "Requirement already satisfied: namex in c:\\users\\darryl\\appdata\\local\\programs\\python\\python312\\lib\\site-packages (from keras>=3.5.0->tensorflow-intel==2.18.0->tensorflow) (0.0.8)\n",
      "Requirement already satisfied: optree in c:\\users\\darryl\\appdata\\local\\programs\\python\\python312\\lib\\site-packages (from keras>=3.5.0->tensorflow-intel==2.18.0->tensorflow) (0.13.0)\n",
      "Requirement already satisfied: charset-normalizer<4,>=2 in c:\\users\\darryl\\appdata\\local\\programs\\python\\python312\\lib\\site-packages (from requests<3,>=2.21.0->tensorflow-intel==2.18.0->tensorflow) (3.3.2)\n",
      "Requirement already satisfied: idna<4,>=2.5 in c:\\users\\darryl\\appdata\\local\\programs\\python\\python312\\lib\\site-packages (from requests<3,>=2.21.0->tensorflow-intel==2.18.0->tensorflow) (3.10)\n",
      "Requirement already satisfied: urllib3<3,>=1.21.1 in c:\\users\\darryl\\appdata\\local\\programs\\python\\python312\\lib\\site-packages (from requests<3,>=2.21.0->tensorflow-intel==2.18.0->tensorflow) (2.2.3)\n",
      "Requirement already satisfied: certifi>=2017.4.17 in c:\\users\\darryl\\appdata\\local\\programs\\python\\python312\\lib\\site-packages (from requests<3,>=2.21.0->tensorflow-intel==2.18.0->tensorflow) (2024.8.30)\n",
      "Requirement already satisfied: markdown>=2.6.8 in c:\\users\\darryl\\appdata\\local\\programs\\python\\python312\\lib\\site-packages (from tensorboard<2.19,>=2.18->tensorflow-intel==2.18.0->tensorflow) (3.7)\n",
      "Requirement already satisfied: tensorboard-data-server<0.8.0,>=0.7.0 in c:\\users\\darryl\\appdata\\local\\programs\\python\\python312\\lib\\site-packages (from tensorboard<2.19,>=2.18->tensorflow-intel==2.18.0->tensorflow) (0.7.2)\n",
      "Requirement already satisfied: werkzeug>=1.0.1 in c:\\users\\darryl\\appdata\\local\\programs\\python\\python312\\lib\\site-packages (from tensorboard<2.19,>=2.18->tensorflow-intel==2.18.0->tensorflow) (3.0.4)\n",
      "Requirement already satisfied: pyparsing>=2.0.2 in c:\\users\\darryl\\appdata\\local\\programs\\python\\python312\\lib\\site-packages (from packaging->tensorflow-intel==2.18.0->tensorflow) (3.1.4)\n",
      "Requirement already satisfied: MarkupSafe>=2.1.1 in c:\\users\\darryl\\appdata\\local\\programs\\python\\python312\\lib\\site-packages (from werkzeug>=1.0.1->tensorboard<2.19,>=2.18->tensorflow-intel==2.18.0->tensorflow) (2.1.5)\n",
      "Requirement already satisfied: markdown-it-py>=2.2.0 in c:\\users\\darryl\\appdata\\local\\programs\\python\\python312\\lib\\site-packages (from rich->keras>=3.5.0->tensorflow-intel==2.18.0->tensorflow) (3.0.0)\n",
      "Requirement already satisfied: pygments<3.0.0,>=2.13.0 in c:\\users\\darryl\\appdata\\roaming\\python\\python312\\site-packages (from rich->keras>=3.5.0->tensorflow-intel==2.18.0->tensorflow) (2.18.0)\n",
      "Requirement already satisfied: mdurl~=0.1 in c:\\users\\darryl\\appdata\\local\\programs\\python\\python312\\lib\\site-packages (from markdown-it-py>=2.2.0->rich->keras>=3.5.0->tensorflow-intel==2.18.0->tensorflow) (0.1.2)\n",
      "Note: you may need to restart the kernel to use updated packages.\n"
     ]
    }
   ],
   "source": [
    "%pip install numpy\n",
    "%pip install pandas\n",
    "%pip install matplotlib\n",
    "%pip install tensorflow"
   ]
  },
  {
   "cell_type": "code",
   "execution_count": 1,
   "metadata": {},
   "outputs": [
    {
     "name": "stdout",
     "output_type": "stream",
     "text": [
      "Num GPUs Available:  0\n"
     ]
    }
   ],
   "source": [
    "import tensorflow as tf\n",
    "print(\"Num GPUs Available: \", len(tf.config.list_physical_devices('GPU')))"
   ]
  },
  {
   "cell_type": "markdown",
   "metadata": {},
   "source": [
    "## Import Library"
   ]
  },
  {
   "cell_type": "code",
   "execution_count": 2,
   "metadata": {},
   "outputs": [],
   "source": [
    "import os\n",
    "import numpy as np\n",
    "import pandas as pd\n",
    "import matplotlib.pyplot as plt\n",
    "import tensorflow as tf"
   ]
  },
  {
   "cell_type": "markdown",
   "metadata": {},
   "source": [
    "## Load the Training and Test Sets"
   ]
  },
  {
   "cell_type": "code",
   "execution_count": 3,
   "metadata": {},
   "outputs": [
    {
     "name": "stdout",
     "output_type": "stream",
     "text": [
      "   Umur (bulan) Jenis Kelamin  Tinggi Badan (cm) Status Gizi\n",
      "0            18     laki-laki               80.4      normal\n",
      "1             7     laki-laki               81.3      tinggi\n",
      "2            60     laki-laki              122.3      normal\n",
      "3            18     laki-laki               81.3      normal\n",
      "4            20     perempuan               76.3     stunted\n",
      "   Umur (bulan) Jenis Kelamin  Tinggi Badan (cm)       Status Gizi\n",
      "0            26     perempuan         100.100000            tinggi\n",
      "1             4     laki-laki          51.500000  severely stunted\n",
      "2             0     perempuan          56.943107            tinggi\n",
      "3            59     laki-laki          98.900000           stunted\n",
      "4            38     laki-laki          85.300000  severely stunted\n"
     ]
    }
   ],
   "source": [
    "# Ganti sesuai lokasi dataset\n",
    "folderName = \"StuntingClassificationDataset\"\n",
    "trainFileName = \"train.csv\"\n",
    "testFileName = \"test.csv\"\n",
    "\n",
    "train_path = os.path.join(os.getcwd(), 'data', folderName, trainFileName)\n",
    "train = pd.read_csv(train_path, header=0)\n",
    "\n",
    "test_path = os.path.join(os.getcwd(), 'data', folderName, testFileName)\n",
    "test = pd.read_csv(test_path, header=0)\n",
    "\n",
    "print(train.head())\n",
    "print(test.head())"
   ]
  },
  {
   "cell_type": "markdown",
   "metadata": {},
   "source": [
    "## Convert Categorical Column Into One-Hot Encoded Column"
   ]
  },
  {
   "cell_type": "code",
   "execution_count": 4,
   "metadata": {},
   "outputs": [
    {
     "name": "stdout",
     "output_type": "stream",
     "text": [
      "   Umur (bulan)  Jenis Kelamin  Tinggi Badan (cm)  Status Gizi\n",
      "0            18              0               80.4            2\n",
      "1             7              0               81.3            3\n",
      "2            60              0              122.3            2\n",
      "3            18              0               81.3            2\n",
      "4            20              1               76.3            1\n",
      "   Umur (bulan)  Jenis Kelamin  Tinggi Badan (cm)  Status Gizi\n",
      "0            26              1         100.100000            3\n",
      "1             4              0          51.500000            0\n",
      "2             0              1          56.943107            3\n",
      "3            59              0          98.900000            1\n",
      "4            38              0          85.300000            0\n"
     ]
    }
   ],
   "source": [
    "train['Jenis Kelamin'] = train['Jenis Kelamin'].map({'laki-laki': 0, 'perempuan': 1})\n",
    "train['Status Gizi'] = train['Status Gizi'].map({'severely stunted': 0, 'stunted': 1, 'normal': 2, 'tinggi': 3})\n",
    "\n",
    "test['Jenis Kelamin'] = test['Jenis Kelamin'].map({'laki-laki': 0, 'perempuan': 1})\n",
    "test['Status Gizi'] = test['Status Gizi'].map({'severely stunted': 0, 'stunted': 1, 'normal': 2, 'tinggi': 3})\n",
    "\n",
    "print(train.head())\n",
    "print(test.head())"
   ]
  },
  {
   "cell_type": "markdown",
   "metadata": {},
   "source": [
    "## Split The Dataset Into Features And Label"
   ]
  },
  {
   "cell_type": "code",
   "execution_count": 5,
   "metadata": {},
   "outputs": [
    {
     "name": "stdout",
     "output_type": "stream",
     "text": [
      "[[ 18.          0.         80.4      ]\n",
      " [  7.          0.         81.3      ]\n",
      " [ 60.          0.        122.3      ]\n",
      " ...\n",
      " [ 42.          0.        100.5      ]\n",
      " [  2.          0.         50.6715241]\n",
      " [ 21.          1.         91.8      ]]\n",
      "[2 3 2 ... 2 0 2]\n",
      "[[ 26.           1.         100.1       ]\n",
      " [  4.           0.          51.5       ]\n",
      " [  0.           1.          56.94310704]\n",
      " ...\n",
      " [ 55.           0.         108.        ]\n",
      " [  8.           0.          61.3       ]\n",
      " [ 53.           1.         115.2       ]]\n",
      "[3 0 3 ... 2 0 2]\n"
     ]
    }
   ],
   "source": [
    "xtrain = train[['Umur (bulan)', 'Jenis Kelamin','Tinggi Badan (cm)']].values\n",
    "ytrain = train['Status Gizi'].values\n",
    "\n",
    "xtest = test[['Umur (bulan)', 'Jenis Kelamin','Tinggi Badan (cm)']].values\n",
    "ytest = test['Status Gizi'].values\n",
    "\n",
    "print(xtrain)\n",
    "print(ytrain)\n",
    "print(xtest)\n",
    "print(ytest)"
   ]
  },
  {
   "cell_type": "markdown",
   "metadata": {},
   "source": [
    "## Architechture Options"
   ]
  },
  {
   "cell_type": "code",
   "execution_count": null,
   "metadata": {},
   "outputs": [],
   "source": [
    "\"\"\"\n",
    "Available Layer Options (https://www.tensorflow.org/api_docs/python/tf/keras/layers)\n",
    "1. Input layer: tf.keras.Input(shape=(3,)) //Untuk input, shape menyesuaikan jumlah feature\n",
    "2. Dense\n",
    "\n",
    "Available Optimizer Options (https://www.tensorflow.org/api_docs/python/tf/keras/optimizers)\n",
    "1. SGD (Stochastic Gradient Descent): tf.keras.optimizers.SGD() or 'sgd'\n",
    "2. Adam (Adaptive Moment Estimation): tf.keras.optimizers.Adam() or 'sgd'\n",
    "3. RMSprop (Root Mean Square Propagation): tf.keras.optimizers.RMSprop() or 'rmsprop'\n",
    "4. Adagrad (Adaptive Gradient Algorithm): tf.keras.optimizers.Adagrad() or 'adagrad'\n",
    "5. Adadelta: tf.keras.optimizers.Adadelta() or 'adadelta'\n",
    "6. Nadam (Nesterov-accelerated Adaptive Moment Estimation): tf.keras.optimizers.Nadam() or 'nadam'\n",
    "7. Ftrl (Follow The Regularized Leader): tf.keras.optimizers.Ftrl() or 'ftrl'\n",
    "8. Adamax (A Variant of Adam): tf.keras.optimizers.Adamax() or 'adamax'\n",
    "\n",
    "Available Losses Options ()\n",
    "\n",
    "Available Metrics ()\n",
    "\"\"\""
   ]
  },
  {
   "cell_type": "markdown",
   "metadata": {},
   "source": [
    "## Make the Model"
   ]
  },
  {
   "cell_type": "code",
   "execution_count": 11,
   "metadata": {},
   "outputs": [
    {
     "data": {
      "text/html": [
       "<pre style=\"white-space:pre;overflow-x:auto;line-height:normal;font-family:Menlo,'DejaVu Sans Mono',consolas,'Courier New',monospace\"><span style=\"font-weight: bold\">Model: \"sequential_1\"</span>\n",
       "</pre>\n"
      ],
      "text/plain": [
       "\u001b[1mModel: \"sequential_1\"\u001b[0m\n"
      ]
     },
     "metadata": {},
     "output_type": "display_data"
    },
    {
     "data": {
      "text/html": [
       "<pre style=\"white-space:pre;overflow-x:auto;line-height:normal;font-family:Menlo,'DejaVu Sans Mono',consolas,'Courier New',monospace\">┏━━━━━━━━━━━━━━━━━━━━━━━━━━━━━━━━━┳━━━━━━━━━━━━━━━━━━━━━━━━┳━━━━━━━━━━━━━━━┓\n",
       "┃<span style=\"font-weight: bold\"> Layer (type)                    </span>┃<span style=\"font-weight: bold\"> Output Shape           </span>┃<span style=\"font-weight: bold\">       Param # </span>┃\n",
       "┡━━━━━━━━━━━━━━━━━━━━━━━━━━━━━━━━━╇━━━━━━━━━━━━━━━━━━━━━━━━╇━━━━━━━━━━━━━━━┩\n",
       "│ dense_2 (<span style=\"color: #0087ff; text-decoration-color: #0087ff\">Dense</span>)                 │ (<span style=\"color: #00d7ff; text-decoration-color: #00d7ff\">None</span>, <span style=\"color: #00af00; text-decoration-color: #00af00\">16</span>)             │            <span style=\"color: #00af00; text-decoration-color: #00af00\">64</span> │\n",
       "├─────────────────────────────────┼────────────────────────┼───────────────┤\n",
       "│ dense_3 (<span style=\"color: #0087ff; text-decoration-color: #0087ff\">Dense</span>)                 │ (<span style=\"color: #00d7ff; text-decoration-color: #00d7ff\">None</span>, <span style=\"color: #00af00; text-decoration-color: #00af00\">4</span>)              │            <span style=\"color: #00af00; text-decoration-color: #00af00\">68</span> │\n",
       "└─────────────────────────────────┴────────────────────────┴───────────────┘\n",
       "</pre>\n"
      ],
      "text/plain": [
       "┏━━━━━━━━━━━━━━━━━━━━━━━━━━━━━━━━━┳━━━━━━━━━━━━━━━━━━━━━━━━┳━━━━━━━━━━━━━━━┓\n",
       "┃\u001b[1m \u001b[0m\u001b[1mLayer (type)                   \u001b[0m\u001b[1m \u001b[0m┃\u001b[1m \u001b[0m\u001b[1mOutput Shape          \u001b[0m\u001b[1m \u001b[0m┃\u001b[1m \u001b[0m\u001b[1m      Param #\u001b[0m\u001b[1m \u001b[0m┃\n",
       "┡━━━━━━━━━━━━━━━━━━━━━━━━━━━━━━━━━╇━━━━━━━━━━━━━━━━━━━━━━━━╇━━━━━━━━━━━━━━━┩\n",
       "│ dense_2 (\u001b[38;5;33mDense\u001b[0m)                 │ (\u001b[38;5;45mNone\u001b[0m, \u001b[38;5;34m16\u001b[0m)             │            \u001b[38;5;34m64\u001b[0m │\n",
       "├─────────────────────────────────┼────────────────────────┼───────────────┤\n",
       "│ dense_3 (\u001b[38;5;33mDense\u001b[0m)                 │ (\u001b[38;5;45mNone\u001b[0m, \u001b[38;5;34m4\u001b[0m)              │            \u001b[38;5;34m68\u001b[0m │\n",
       "└─────────────────────────────────┴────────────────────────┴───────────────┘\n"
      ]
     },
     "metadata": {},
     "output_type": "display_data"
    },
    {
     "data": {
      "text/html": [
       "<pre style=\"white-space:pre;overflow-x:auto;line-height:normal;font-family:Menlo,'DejaVu Sans Mono',consolas,'Courier New',monospace\"><span style=\"font-weight: bold\"> Total params: </span><span style=\"color: #00af00; text-decoration-color: #00af00\">132</span> (528.00 B)\n",
       "</pre>\n"
      ],
      "text/plain": [
       "\u001b[1m Total params: \u001b[0m\u001b[38;5;34m132\u001b[0m (528.00 B)\n"
      ]
     },
     "metadata": {},
     "output_type": "display_data"
    },
    {
     "data": {
      "text/html": [
       "<pre style=\"white-space:pre;overflow-x:auto;line-height:normal;font-family:Menlo,'DejaVu Sans Mono',consolas,'Courier New',monospace\"><span style=\"font-weight: bold\"> Trainable params: </span><span style=\"color: #00af00; text-decoration-color: #00af00\">132</span> (528.00 B)\n",
       "</pre>\n"
      ],
      "text/plain": [
       "\u001b[1m Trainable params: \u001b[0m\u001b[38;5;34m132\u001b[0m (528.00 B)\n"
      ]
     },
     "metadata": {},
     "output_type": "display_data"
    },
    {
     "data": {
      "text/html": [
       "<pre style=\"white-space:pre;overflow-x:auto;line-height:normal;font-family:Menlo,'DejaVu Sans Mono',consolas,'Courier New',monospace\"><span style=\"font-weight: bold\"> Non-trainable params: </span><span style=\"color: #00af00; text-decoration-color: #00af00\">0</span> (0.00 B)\n",
       "</pre>\n"
      ],
      "text/plain": [
       "\u001b[1m Non-trainable params: \u001b[0m\u001b[38;5;34m0\u001b[0m (0.00 B)\n"
      ]
     },
     "metadata": {},
     "output_type": "display_data"
    }
   ],
   "source": [
    "optimizer = 'adam'\n",
    "loss = tf.keras.losses.SparseCategoricalCrossentropy()\n",
    "metrics = ['accuracy']\n",
    "\n",
    "model = tf.keras.Sequential([\n",
    "    tf.keras.Input(shape=(3,)),\n",
    "    tf.keras.layers.Dense(units=16, activation=\"relu\"),\n",
    "    tf.keras.layers.Dense(units=4, activation=\"softmax\")\n",
    "])\n",
    "model.compile(\n",
    "    optimizer=optimizer,\n",
    "    loss=loss,\n",
    "    metrics=metrics\n",
    ")\n",
    "model.summary()"
   ]
  },
  {
   "cell_type": "markdown",
   "metadata": {},
   "source": [
    "## Train the Model"
   ]
  },
  {
   "cell_type": "code",
   "execution_count": 12,
   "metadata": {},
   "outputs": [
    {
     "name": "stdout",
     "output_type": "stream",
     "text": [
      "Epoch 1/100\n",
      "\u001b[1m3706/3706\u001b[0m \u001b[32m━━━━━━━━━━━━━━━━━━━━\u001b[0m\u001b[37m\u001b[0m \u001b[1m2s\u001b[0m 443us/step - accuracy: 0.4983 - loss: 2.8901 - val_accuracy: 0.5847 - val_loss: 1.0075\n",
      "Epoch 2/100\n",
      "\u001b[1m3706/3706\u001b[0m \u001b[32m━━━━━━━━━━━━━━━━━━━━\u001b[0m\u001b[37m\u001b[0m \u001b[1m2s\u001b[0m 457us/step - accuracy: 0.5960 - loss: 0.9630 - val_accuracy: 0.6318 - val_loss: 0.8730\n",
      "Epoch 3/100\n",
      "\u001b[1m3706/3706\u001b[0m \u001b[32m━━━━━━━━━━━━━━━━━━━━\u001b[0m\u001b[37m\u001b[0m \u001b[1m2s\u001b[0m 448us/step - accuracy: 0.6382 - loss: 0.8553 - val_accuracy: 0.6624 - val_loss: 0.7266\n",
      "Epoch 4/100\n",
      "\u001b[1m3706/3706\u001b[0m \u001b[32m━━━━━━━━━━━━━━━━━━━━\u001b[0m\u001b[37m\u001b[0m \u001b[1m2s\u001b[0m 468us/step - accuracy: 0.7294 - loss: 0.6993 - val_accuracy: 0.7946 - val_loss: 0.5860\n",
      "Epoch 5/100\n",
      "\u001b[1m3706/3706\u001b[0m \u001b[32m━━━━━━━━━━━━━━━━━━━━\u001b[0m\u001b[37m\u001b[0m \u001b[1m2s\u001b[0m 494us/step - accuracy: 0.7945 - loss: 0.5734 - val_accuracy: 0.8165 - val_loss: 0.5287\n",
      "Epoch 6/100\n",
      "\u001b[1m3706/3706\u001b[0m \u001b[32m━━━━━━━━━━━━━━━━━━━━\u001b[0m\u001b[37m\u001b[0m \u001b[1m2s\u001b[0m 514us/step - accuracy: 0.8255 - loss: 0.4931 - val_accuracy: 0.8289 - val_loss: 0.4533\n",
      "Epoch 7/100\n",
      "\u001b[1m3706/3706\u001b[0m \u001b[32m━━━━━━━━━━━━━━━━━━━━\u001b[0m\u001b[37m\u001b[0m \u001b[1m2s\u001b[0m 467us/step - accuracy: 0.8450 - loss: 0.4366 - val_accuracy: 0.8682 - val_loss: 0.3961\n",
      "Epoch 8/100\n",
      "\u001b[1m3706/3706\u001b[0m \u001b[32m━━━━━━━━━━━━━━━━━━━━\u001b[0m\u001b[37m\u001b[0m \u001b[1m2s\u001b[0m 452us/step - accuracy: 0.8574 - loss: 0.3972 - val_accuracy: 0.8764 - val_loss: 0.3693\n",
      "Epoch 9/100\n",
      "\u001b[1m3706/3706\u001b[0m \u001b[32m━━━━━━━━━━━━━━━━━━━━\u001b[0m\u001b[37m\u001b[0m \u001b[1m2s\u001b[0m 437us/step - accuracy: 0.8703 - loss: 0.3687 - val_accuracy: 0.8860 - val_loss: 0.3443\n",
      "Epoch 10/100\n",
      "\u001b[1m3706/3706\u001b[0m \u001b[32m━━━━━━━━━━━━━━━━━━━━\u001b[0m\u001b[37m\u001b[0m \u001b[1m2s\u001b[0m 435us/step - accuracy: 0.8774 - loss: 0.3468 - val_accuracy: 0.9107 - val_loss: 0.3350\n",
      "Epoch 11/100\n",
      "\u001b[1m3706/3706\u001b[0m \u001b[32m━━━━━━━━━━━━━━━━━━━━\u001b[0m\u001b[37m\u001b[0m \u001b[1m2s\u001b[0m 426us/step - accuracy: 0.8854 - loss: 0.3272 - val_accuracy: 0.8988 - val_loss: 0.3188\n",
      "Epoch 12/100\n",
      "\u001b[1m3706/3706\u001b[0m \u001b[32m━━━━━━━━━━━━━━━━━━━━\u001b[0m\u001b[37m\u001b[0m \u001b[1m2s\u001b[0m 429us/step - accuracy: 0.8904 - loss: 0.3117 - val_accuracy: 0.9083 - val_loss: 0.3005\n",
      "Epoch 13/100\n",
      "\u001b[1m3706/3706\u001b[0m \u001b[32m━━━━━━━━━━━━━━━━━━━━\u001b[0m\u001b[37m\u001b[0m \u001b[1m2s\u001b[0m 435us/step - accuracy: 0.8965 - loss: 0.3011 - val_accuracy: 0.9190 - val_loss: 0.2879\n",
      "Epoch 14/100\n",
      "\u001b[1m3706/3706\u001b[0m \u001b[32m━━━━━━━━━━━━━━━━━━━━\u001b[0m\u001b[37m\u001b[0m \u001b[1m2s\u001b[0m 425us/step - accuracy: 0.8976 - loss: 0.2915 - val_accuracy: 0.8785 - val_loss: 0.3058\n",
      "Epoch 15/100\n",
      "\u001b[1m3706/3706\u001b[0m \u001b[32m━━━━━━━━━━━━━━━━━━━━\u001b[0m\u001b[37m\u001b[0m \u001b[1m2s\u001b[0m 430us/step - accuracy: 0.9005 - loss: 0.2831 - val_accuracy: 0.9322 - val_loss: 0.2599\n",
      "Epoch 16/100\n",
      "\u001b[1m3706/3706\u001b[0m \u001b[32m━━━━━━━━━━━━━━━━━━━━\u001b[0m\u001b[37m\u001b[0m \u001b[1m2s\u001b[0m 432us/step - accuracy: 0.9112 - loss: 0.2655 - val_accuracy: 0.9194 - val_loss: 0.2633\n",
      "Epoch 17/100\n",
      "\u001b[1m3706/3706\u001b[0m \u001b[32m━━━━━━━━━━━━━━━━━━━━\u001b[0m\u001b[37m\u001b[0m \u001b[1m2s\u001b[0m 438us/step - accuracy: 0.9199 - loss: 0.2526 - val_accuracy: 0.9240 - val_loss: 0.2474\n",
      "Epoch 18/100\n",
      "\u001b[1m3706/3706\u001b[0m \u001b[32m━━━━━━━━━━━━━━━━━━━━\u001b[0m\u001b[37m\u001b[0m \u001b[1m2s\u001b[0m 434us/step - accuracy: 0.9240 - loss: 0.2438 - val_accuracy: 0.9264 - val_loss: 0.2345\n",
      "Epoch 19/100\n",
      "\u001b[1m3706/3706\u001b[0m \u001b[32m━━━━━━━━━━━━━━━━━━━━\u001b[0m\u001b[37m\u001b[0m \u001b[1m2s\u001b[0m 430us/step - accuracy: 0.9247 - loss: 0.2365 - val_accuracy: 0.9351 - val_loss: 0.2279\n",
      "Epoch 20/100\n",
      "\u001b[1m3706/3706\u001b[0m \u001b[32m━━━━━━━━━━━━━━━━━━━━\u001b[0m\u001b[37m\u001b[0m \u001b[1m2s\u001b[0m 435us/step - accuracy: 0.9286 - loss: 0.2283 - val_accuracy: 0.9421 - val_loss: 0.2188\n",
      "Epoch 21/100\n",
      "\u001b[1m3706/3706\u001b[0m \u001b[32m━━━━━━━━━━━━━━━━━━━━\u001b[0m\u001b[37m\u001b[0m \u001b[1m2s\u001b[0m 427us/step - accuracy: 0.9296 - loss: 0.2209 - val_accuracy: 0.9517 - val_loss: 0.2062\n",
      "Epoch 22/100\n",
      "\u001b[1m3706/3706\u001b[0m \u001b[32m━━━━━━━━━━━━━━━━━━━━\u001b[0m\u001b[37m\u001b[0m \u001b[1m2s\u001b[0m 436us/step - accuracy: 0.9303 - loss: 0.2175 - val_accuracy: 0.9231 - val_loss: 0.2209\n",
      "Epoch 23/100\n",
      "\u001b[1m3706/3706\u001b[0m \u001b[32m━━━━━━━━━━━━━━━━━━━━\u001b[0m\u001b[37m\u001b[0m \u001b[1m2s\u001b[0m 439us/step - accuracy: 0.9324 - loss: 0.2112 - val_accuracy: 0.9029 - val_loss: 0.2326\n",
      "Epoch 24/100\n",
      "\u001b[1m3706/3706\u001b[0m \u001b[32m━━━━━━━━━━━━━━━━━━━━\u001b[0m\u001b[37m\u001b[0m \u001b[1m2s\u001b[0m 437us/step - accuracy: 0.9320 - loss: 0.2080 - val_accuracy: 0.9231 - val_loss: 0.2116\n",
      "Epoch 25/100\n",
      "\u001b[1m3706/3706\u001b[0m \u001b[32m━━━━━━━━━━━━━━━━━━━━\u001b[0m\u001b[37m\u001b[0m \u001b[1m2s\u001b[0m 429us/step - accuracy: 0.9347 - loss: 0.2027 - val_accuracy: 0.9355 - val_loss: 0.2000\n",
      "Epoch 26/100\n",
      "\u001b[1m3706/3706\u001b[0m \u001b[32m━━━━━━━━━━━━━━━━━━━━\u001b[0m\u001b[37m\u001b[0m \u001b[1m2s\u001b[0m 434us/step - accuracy: 0.9353 - loss: 0.1992 - val_accuracy: 0.8781 - val_loss: 0.2651\n",
      "Epoch 27/100\n",
      "\u001b[1m3706/3706\u001b[0m \u001b[32m━━━━━━━━━━━━━━━━━━━━\u001b[0m\u001b[37m\u001b[0m \u001b[1m2s\u001b[0m 427us/step - accuracy: 0.9345 - loss: 0.1970 - val_accuracy: 0.9455 - val_loss: 0.1872\n",
      "Epoch 28/100\n",
      "\u001b[1m3706/3706\u001b[0m \u001b[32m━━━━━━━━━━━━━━━━━━━━\u001b[0m\u001b[37m\u001b[0m \u001b[1m2s\u001b[0m 430us/step - accuracy: 0.9373 - loss: 0.1911 - val_accuracy: 0.9388 - val_loss: 0.1900\n",
      "Epoch 29/100\n",
      "\u001b[1m3706/3706\u001b[0m \u001b[32m━━━━━━━━━━━━━━━━━━━━\u001b[0m\u001b[37m\u001b[0m \u001b[1m2s\u001b[0m 436us/step - accuracy: 0.9365 - loss: 0.1897 - val_accuracy: 0.9409 - val_loss: 0.1818\n",
      "Epoch 30/100\n",
      "\u001b[1m3706/3706\u001b[0m \u001b[32m━━━━━━━━━━━━━━━━━━━━\u001b[0m\u001b[37m\u001b[0m \u001b[1m2s\u001b[0m 427us/step - accuracy: 0.9362 - loss: 0.1876 - val_accuracy: 0.9471 - val_loss: 0.1746\n",
      "Epoch 31/100\n",
      "\u001b[1m3706/3706\u001b[0m \u001b[32m━━━━━━━━━━━━━━━━━━━━\u001b[0m\u001b[37m\u001b[0m \u001b[1m2s\u001b[0m 423us/step - accuracy: 0.9378 - loss: 0.1836 - val_accuracy: 0.9467 - val_loss: 0.1738\n",
      "Epoch 32/100\n",
      "\u001b[1m3706/3706\u001b[0m \u001b[32m━━━━━━━━━━━━━━━━━━━━\u001b[0m\u001b[37m\u001b[0m \u001b[1m2s\u001b[0m 430us/step - accuracy: 0.9370 - loss: 0.1838 - val_accuracy: 0.9149 - val_loss: 0.2035\n",
      "Epoch 33/100\n",
      "\u001b[1m3706/3706\u001b[0m \u001b[32m━━━━━━━━━━━━━━━━━━━━\u001b[0m\u001b[37m\u001b[0m \u001b[1m2s\u001b[0m 414us/step - accuracy: 0.9390 - loss: 0.1787 - val_accuracy: 0.9459 - val_loss: 0.1743\n",
      "Epoch 34/100\n",
      "\u001b[1m3706/3706\u001b[0m \u001b[32m━━━━━━━━━━━━━━━━━━━━\u001b[0m\u001b[37m\u001b[0m \u001b[1m2s\u001b[0m 426us/step - accuracy: 0.9396 - loss: 0.1762 - val_accuracy: 0.9310 - val_loss: 0.1830\n",
      "Epoch 35/100\n",
      "\u001b[1m3706/3706\u001b[0m \u001b[32m━━━━━━━━━━━━━━━━━━━━\u001b[0m\u001b[37m\u001b[0m \u001b[1m2s\u001b[0m 423us/step - accuracy: 0.9387 - loss: 0.1768 - val_accuracy: 0.8855 - val_loss: 0.2393\n",
      "Epoch 36/100\n",
      "\u001b[1m3706/3706\u001b[0m \u001b[32m━━━━━━━━━━━━━━━━━━━━\u001b[0m\u001b[37m\u001b[0m \u001b[1m2s\u001b[0m 433us/step - accuracy: 0.9385 - loss: 0.1735 - val_accuracy: 0.9397 - val_loss: 0.1660\n",
      "Epoch 37/100\n",
      "\u001b[1m3706/3706\u001b[0m \u001b[32m━━━━━━━━━━━━━━━━━━━━\u001b[0m\u001b[37m\u001b[0m \u001b[1m2s\u001b[0m 421us/step - accuracy: 0.9418 - loss: 0.1695 - val_accuracy: 0.9463 - val_loss: 0.1604\n",
      "Epoch 38/100\n",
      "\u001b[1m3706/3706\u001b[0m \u001b[32m━━━━━━━━━━━━━━━━━━━━\u001b[0m\u001b[37m\u001b[0m \u001b[1m2s\u001b[0m 430us/step - accuracy: 0.9406 - loss: 0.1689 - val_accuracy: 0.9512 - val_loss: 0.1584\n",
      "Epoch 39/100\n",
      "\u001b[1m3706/3706\u001b[0m \u001b[32m━━━━━━━━━━━━━━━━━━━━\u001b[0m\u001b[37m\u001b[0m \u001b[1m2s\u001b[0m 420us/step - accuracy: 0.9409 - loss: 0.1672 - val_accuracy: 0.9438 - val_loss: 0.1614\n",
      "Epoch 40/100\n",
      "\u001b[1m3706/3706\u001b[0m \u001b[32m━━━━━━━━━━━━━━━━━━━━\u001b[0m\u001b[37m\u001b[0m \u001b[1m2s\u001b[0m 430us/step - accuracy: 0.9399 - loss: 0.1669 - val_accuracy: 0.9525 - val_loss: 0.1566\n",
      "Epoch 41/100\n",
      "\u001b[1m3706/3706\u001b[0m \u001b[32m━━━━━━━━━━━━━━━━━━━━\u001b[0m\u001b[37m\u001b[0m \u001b[1m2s\u001b[0m 435us/step - accuracy: 0.9401 - loss: 0.1655 - val_accuracy: 0.9293 - val_loss: 0.1780\n",
      "Epoch 42/100\n",
      "\u001b[1m3706/3706\u001b[0m \u001b[32m━━━━━━━━━━━━━━━━━━━━\u001b[0m\u001b[37m\u001b[0m \u001b[1m2s\u001b[0m 429us/step - accuracy: 0.9423 - loss: 0.1626 - val_accuracy: 0.9393 - val_loss: 0.1594\n",
      "Epoch 43/100\n",
      "\u001b[1m3706/3706\u001b[0m \u001b[32m━━━━━━━━━━━━━━━━━━━━\u001b[0m\u001b[37m\u001b[0m \u001b[1m2s\u001b[0m 442us/step - accuracy: 0.9414 - loss: 0.1615 - val_accuracy: 0.9529 - val_loss: 0.1493\n",
      "Epoch 44/100\n",
      "\u001b[1m3706/3706\u001b[0m \u001b[32m━━━━━━━━━━━━━━━━━━━━\u001b[0m\u001b[37m\u001b[0m \u001b[1m2s\u001b[0m 444us/step - accuracy: 0.9406 - loss: 0.1617 - val_accuracy: 0.8909 - val_loss: 0.2140\n",
      "Epoch 45/100\n",
      "\u001b[1m3706/3706\u001b[0m \u001b[32m━━━━━━━━━━━━━━━━━━━━\u001b[0m\u001b[37m\u001b[0m \u001b[1m2s\u001b[0m 428us/step - accuracy: 0.9418 - loss: 0.1595 - val_accuracy: 0.9388 - val_loss: 0.1618\n",
      "Epoch 46/100\n",
      "\u001b[1m3706/3706\u001b[0m \u001b[32m━━━━━━━━━━━━━━━━━━━━\u001b[0m\u001b[37m\u001b[0m \u001b[1m2s\u001b[0m 432us/step - accuracy: 0.9436 - loss: 0.1558 - val_accuracy: 0.9500 - val_loss: 0.1494\n",
      "Epoch 47/100\n",
      "\u001b[1m3706/3706\u001b[0m \u001b[32m━━━━━━━━━━━━━━━━━━━━\u001b[0m\u001b[37m\u001b[0m \u001b[1m2s\u001b[0m 435us/step - accuracy: 0.9433 - loss: 0.1555 - val_accuracy: 0.9401 - val_loss: 0.1563\n",
      "Epoch 48/100\n",
      "\u001b[1m3706/3706\u001b[0m \u001b[32m━━━━━━━━━━━━━━━━━━━━\u001b[0m\u001b[37m\u001b[0m \u001b[1m2s\u001b[0m 422us/step - accuracy: 0.9430 - loss: 0.1551 - val_accuracy: 0.9463 - val_loss: 0.1493\n",
      "Epoch 49/100\n",
      "\u001b[1m3706/3706\u001b[0m \u001b[32m━━━━━━━━━━━━━━━━━━━━\u001b[0m\u001b[37m\u001b[0m \u001b[1m2s\u001b[0m 425us/step - accuracy: 0.9423 - loss: 0.1543 - val_accuracy: 0.9409 - val_loss: 0.1493\n",
      "Epoch 50/100\n",
      "\u001b[1m3706/3706\u001b[0m \u001b[32m━━━━━━━━━━━━━━━━━━━━\u001b[0m\u001b[37m\u001b[0m \u001b[1m2s\u001b[0m 435us/step - accuracy: 0.9436 - loss: 0.1535 - val_accuracy: 0.9165 - val_loss: 0.1802\n",
      "Epoch 51/100\n",
      "\u001b[1m3706/3706\u001b[0m \u001b[32m━━━━━━━━━━━━━━━━━━━━\u001b[0m\u001b[37m\u001b[0m \u001b[1m2s\u001b[0m 437us/step - accuracy: 0.9425 - loss: 0.1527 - val_accuracy: 0.9326 - val_loss: 0.1656\n",
      "Epoch 52/100\n",
      "\u001b[1m3706/3706\u001b[0m \u001b[32m━━━━━━━━━━━━━━━━━━━━\u001b[0m\u001b[37m\u001b[0m \u001b[1m2s\u001b[0m 442us/step - accuracy: 0.9449 - loss: 0.1499 - val_accuracy: 0.9541 - val_loss: 0.1364\n",
      "Epoch 53/100\n",
      "\u001b[1m3706/3706\u001b[0m \u001b[32m━━━━━━━━━━━━━━━━━━━━\u001b[0m\u001b[37m\u001b[0m \u001b[1m2s\u001b[0m 450us/step - accuracy: 0.9431 - loss: 0.1490 - val_accuracy: 0.9471 - val_loss: 0.1414\n",
      "Epoch 54/100\n",
      "\u001b[1m3706/3706\u001b[0m \u001b[32m━━━━━━━━━━━━━━━━━━━━\u001b[0m\u001b[37m\u001b[0m \u001b[1m2s\u001b[0m 444us/step - accuracy: 0.9442 - loss: 0.1495 - val_accuracy: 0.9360 - val_loss: 0.1560\n",
      "Epoch 55/100\n",
      "\u001b[1m3706/3706\u001b[0m \u001b[32m━━━━━━━━━━━━━━━━━━━━\u001b[0m\u001b[37m\u001b[0m \u001b[1m2s\u001b[0m 443us/step - accuracy: 0.9425 - loss: 0.1512 - val_accuracy: 0.9483 - val_loss: 0.1409\n",
      "Epoch 56/100\n",
      "\u001b[1m3706/3706\u001b[0m \u001b[32m━━━━━━━━━━━━━━━━━━━━\u001b[0m\u001b[37m\u001b[0m \u001b[1m2s\u001b[0m 436us/step - accuracy: 0.9466 - loss: 0.1448 - val_accuracy: 0.9479 - val_loss: 0.1382\n",
      "Epoch 57/100\n",
      "\u001b[1m3706/3706\u001b[0m \u001b[32m━━━━━━━━━━━━━━━━━━━━\u001b[0m\u001b[37m\u001b[0m \u001b[1m2s\u001b[0m 432us/step - accuracy: 0.9445 - loss: 0.1460 - val_accuracy: 0.9331 - val_loss: 0.1627\n",
      "Epoch 58/100\n",
      "\u001b[1m3706/3706\u001b[0m \u001b[32m━━━━━━━━━━━━━━━━━━━━\u001b[0m\u001b[37m\u001b[0m \u001b[1m2s\u001b[0m 440us/step - accuracy: 0.9461 - loss: 0.1443 - val_accuracy: 0.9550 - val_loss: 0.1311\n",
      "Epoch 59/100\n",
      "\u001b[1m3706/3706\u001b[0m \u001b[32m━━━━━━━━━━━━━━━━━━━━\u001b[0m\u001b[37m\u001b[0m \u001b[1m2s\u001b[0m 444us/step - accuracy: 0.9444 - loss: 0.1451 - val_accuracy: 0.9496 - val_loss: 0.1340\n",
      "Epoch 60/100\n",
      "\u001b[1m3706/3706\u001b[0m \u001b[32m━━━━━━━━━━━━━━━━━━━━\u001b[0m\u001b[37m\u001b[0m \u001b[1m2s\u001b[0m 430us/step - accuracy: 0.9453 - loss: 0.1437 - val_accuracy: 0.9198 - val_loss: 0.1703\n",
      "Epoch 61/100\n",
      "\u001b[1m3706/3706\u001b[0m \u001b[32m━━━━━━━━━━━━━━━━━━━━\u001b[0m\u001b[37m\u001b[0m \u001b[1m2s\u001b[0m 429us/step - accuracy: 0.9450 - loss: 0.1442 - val_accuracy: 0.9360 - val_loss: 0.1487\n",
      "Epoch 62/100\n",
      "\u001b[1m3706/3706\u001b[0m \u001b[32m━━━━━━━━━━━━━━━━━━━━\u001b[0m\u001b[37m\u001b[0m \u001b[1m2s\u001b[0m 440us/step - accuracy: 0.9466 - loss: 0.1400 - val_accuracy: 0.9558 - val_loss: 0.1278\n",
      "Epoch 63/100\n",
      "\u001b[1m3706/3706\u001b[0m \u001b[32m━━━━━━━━━━━━━━━━━━━━\u001b[0m\u001b[37m\u001b[0m \u001b[1m2s\u001b[0m 446us/step - accuracy: 0.9456 - loss: 0.1412 - val_accuracy: 0.9360 - val_loss: 0.1532\n",
      "Epoch 64/100\n",
      "\u001b[1m3706/3706\u001b[0m \u001b[32m━━━━━━━━━━━━━━━━━━━━\u001b[0m\u001b[37m\u001b[0m \u001b[1m2s\u001b[0m 445us/step - accuracy: 0.9469 - loss: 0.1395 - val_accuracy: 0.9277 - val_loss: 0.1571\n",
      "Epoch 65/100\n",
      "\u001b[1m3706/3706\u001b[0m \u001b[32m━━━━━━━━━━━━━━━━━━━━\u001b[0m\u001b[37m\u001b[0m \u001b[1m2s\u001b[0m 458us/step - accuracy: 0.9458 - loss: 0.1417 - val_accuracy: 0.9512 - val_loss: 0.1292\n",
      "Epoch 66/100\n",
      "\u001b[1m3706/3706\u001b[0m \u001b[32m━━━━━━━━━━━━━━━━━━━━\u001b[0m\u001b[37m\u001b[0m \u001b[1m2s\u001b[0m 426us/step - accuracy: 0.9473 - loss: 0.1381 - val_accuracy: 0.9479 - val_loss: 0.1320\n",
      "Epoch 67/100\n",
      "\u001b[1m3706/3706\u001b[0m \u001b[32m━━━━━━━━━━━━━━━━━━━━\u001b[0m\u001b[37m\u001b[0m \u001b[1m2s\u001b[0m 421us/step - accuracy: 0.9454 - loss: 0.1400 - val_accuracy: 0.9355 - val_loss: 0.1474\n",
      "Epoch 68/100\n",
      "\u001b[1m3706/3706\u001b[0m \u001b[32m━━━━━━━━━━━━━━━━━━━━\u001b[0m\u001b[37m\u001b[0m \u001b[1m2s\u001b[0m 422us/step - accuracy: 0.9465 - loss: 0.1374 - val_accuracy: 0.9500 - val_loss: 0.1294\n",
      "Epoch 69/100\n",
      "\u001b[1m3706/3706\u001b[0m \u001b[32m━━━━━━━━━━━━━━━━━━━━\u001b[0m\u001b[37m\u001b[0m \u001b[1m2s\u001b[0m 422us/step - accuracy: 0.9469 - loss: 0.1354 - val_accuracy: 0.9343 - val_loss: 0.1412\n",
      "Epoch 70/100\n",
      "\u001b[1m3706/3706\u001b[0m \u001b[32m━━━━━━━━━━━━━━━━━━━━\u001b[0m\u001b[37m\u001b[0m \u001b[1m2s\u001b[0m 419us/step - accuracy: 0.9463 - loss: 0.1371 - val_accuracy: 0.9438 - val_loss: 0.1427\n",
      "Epoch 71/100\n",
      "\u001b[1m3706/3706\u001b[0m \u001b[32m━━━━━━━━━━━━━━━━━━━━\u001b[0m\u001b[37m\u001b[0m \u001b[1m2s\u001b[0m 419us/step - accuracy: 0.9477 - loss: 0.1359 - val_accuracy: 0.9533 - val_loss: 0.1291\n",
      "Epoch 72/100\n",
      "\u001b[1m3706/3706\u001b[0m \u001b[32m━━━━━━━━━━━━━━━━━━━━\u001b[0m\u001b[37m\u001b[0m \u001b[1m2s\u001b[0m 430us/step - accuracy: 0.9476 - loss: 0.1352 - val_accuracy: 0.9508 - val_loss: 0.1331\n",
      "Epoch 73/100\n",
      "\u001b[1m3706/3706\u001b[0m \u001b[32m━━━━━━━━━━━━━━━━━━━━\u001b[0m\u001b[37m\u001b[0m \u001b[1m2s\u001b[0m 425us/step - accuracy: 0.9495 - loss: 0.1317 - val_accuracy: 0.9554 - val_loss: 0.1220\n",
      "Epoch 74/100\n",
      "\u001b[1m3706/3706\u001b[0m \u001b[32m━━━━━━━━━━━━━━━━━━━━\u001b[0m\u001b[37m\u001b[0m \u001b[1m2s\u001b[0m 420us/step - accuracy: 0.9492 - loss: 0.1315 - val_accuracy: 0.9517 - val_loss: 0.1328\n",
      "Epoch 75/100\n",
      "\u001b[1m3706/3706\u001b[0m \u001b[32m━━━━━━━━━━━━━━━━━━━━\u001b[0m\u001b[37m\u001b[0m \u001b[1m2s\u001b[0m 428us/step - accuracy: 0.9493 - loss: 0.1304 - val_accuracy: 0.9508 - val_loss: 0.1244\n",
      "Epoch 76/100\n",
      "\u001b[1m3706/3706\u001b[0m \u001b[32m━━━━━━━━━━━━━━━━━━━━\u001b[0m\u001b[37m\u001b[0m \u001b[1m2s\u001b[0m 425us/step - accuracy: 0.9498 - loss: 0.1305 - val_accuracy: 0.9550 - val_loss: 0.1211\n",
      "Epoch 77/100\n",
      "\u001b[1m3706/3706\u001b[0m \u001b[32m━━━━━━━━━━━━━━━━━━━━\u001b[0m\u001b[37m\u001b[0m \u001b[1m2s\u001b[0m 426us/step - accuracy: 0.9498 - loss: 0.1305 - val_accuracy: 0.9504 - val_loss: 0.1256\n",
      "Epoch 78/100\n",
      "\u001b[1m3706/3706\u001b[0m \u001b[32m━━━━━━━━━━━━━━━━━━━━\u001b[0m\u001b[37m\u001b[0m \u001b[1m2s\u001b[0m 424us/step - accuracy: 0.9517 - loss: 0.1284 - val_accuracy: 0.9380 - val_loss: 0.1315\n",
      "Epoch 79/100\n",
      "\u001b[1m3706/3706\u001b[0m \u001b[32m━━━━━━━━━━━━━━━━━━━━\u001b[0m\u001b[37m\u001b[0m \u001b[1m2s\u001b[0m 436us/step - accuracy: 0.9495 - loss: 0.1295 - val_accuracy: 0.9504 - val_loss: 0.1238\n",
      "Epoch 80/100\n",
      "\u001b[1m3706/3706\u001b[0m \u001b[32m━━━━━━━━━━━━━━━━━━━━\u001b[0m\u001b[37m\u001b[0m \u001b[1m2s\u001b[0m 425us/step - accuracy: 0.9510 - loss: 0.1282 - val_accuracy: 0.9562 - val_loss: 0.1227\n",
      "Epoch 81/100\n",
      "\u001b[1m3706/3706\u001b[0m \u001b[32m━━━━━━━━━━━━━━━━━━━━\u001b[0m\u001b[37m\u001b[0m \u001b[1m2s\u001b[0m 433us/step - accuracy: 0.9504 - loss: 0.1282 - val_accuracy: 0.9583 - val_loss: 0.1173\n",
      "Epoch 82/100\n",
      "\u001b[1m3706/3706\u001b[0m \u001b[32m━━━━━━━━━━━━━━━━━━━━\u001b[0m\u001b[37m\u001b[0m \u001b[1m2s\u001b[0m 431us/step - accuracy: 0.9509 - loss: 0.1266 - val_accuracy: 0.9393 - val_loss: 0.1513\n",
      "Epoch 83/100\n",
      "\u001b[1m3706/3706\u001b[0m \u001b[32m━━━━━━━━━━━━━━━━━━━━\u001b[0m\u001b[37m\u001b[0m \u001b[1m2s\u001b[0m 425us/step - accuracy: 0.9498 - loss: 0.1267 - val_accuracy: 0.9603 - val_loss: 0.1142\n",
      "Epoch 84/100\n",
      "\u001b[1m3706/3706\u001b[0m \u001b[32m━━━━━━━━━━━━━━━━━━━━\u001b[0m\u001b[37m\u001b[0m \u001b[1m2s\u001b[0m 416us/step - accuracy: 0.9517 - loss: 0.1250 - val_accuracy: 0.9541 - val_loss: 0.1145\n",
      "Epoch 85/100\n",
      "\u001b[1m3706/3706\u001b[0m \u001b[32m━━━━━━━━━━━━━━━━━━━━\u001b[0m\u001b[37m\u001b[0m \u001b[1m2s\u001b[0m 417us/step - accuracy: 0.9520 - loss: 0.1248 - val_accuracy: 0.9607 - val_loss: 0.1127\n",
      "Epoch 86/100\n",
      "\u001b[1m3706/3706\u001b[0m \u001b[32m━━━━━━━━━━━━━━━━━━━━\u001b[0m\u001b[37m\u001b[0m \u001b[1m2s\u001b[0m 426us/step - accuracy: 0.9517 - loss: 0.1249 - val_accuracy: 0.9339 - val_loss: 0.1492\n",
      "Epoch 87/100\n",
      "\u001b[1m3706/3706\u001b[0m \u001b[32m━━━━━━━━━━━━━━━━━━━━\u001b[0m\u001b[37m\u001b[0m \u001b[1m2s\u001b[0m 429us/step - accuracy: 0.9513 - loss: 0.1260 - val_accuracy: 0.9558 - val_loss: 0.1115\n",
      "Epoch 88/100\n",
      "\u001b[1m3706/3706\u001b[0m \u001b[32m━━━━━━━━━━━━━━━━━━━━\u001b[0m\u001b[37m\u001b[0m \u001b[1m2s\u001b[0m 425us/step - accuracy: 0.9508 - loss: 0.1247 - val_accuracy: 0.9570 - val_loss: 0.1146\n",
      "Epoch 89/100\n",
      "\u001b[1m3706/3706\u001b[0m \u001b[32m━━━━━━━━━━━━━━━━━━━━\u001b[0m\u001b[37m\u001b[0m \u001b[1m2s\u001b[0m 429us/step - accuracy: 0.9522 - loss: 0.1231 - val_accuracy: 0.9541 - val_loss: 0.1231\n",
      "Epoch 90/100\n",
      "\u001b[1m3706/3706\u001b[0m \u001b[32m━━━━━━━━━━━━━━━━━━━━\u001b[0m\u001b[37m\u001b[0m \u001b[1m2s\u001b[0m 445us/step - accuracy: 0.9517 - loss: 0.1229 - val_accuracy: 0.9446 - val_loss: 0.1223\n",
      "Epoch 91/100\n",
      "\u001b[1m3706/3706\u001b[0m \u001b[32m━━━━━━━━━━━━━━━━━━━━\u001b[0m\u001b[37m\u001b[0m \u001b[1m2s\u001b[0m 435us/step - accuracy: 0.9515 - loss: 0.1234 - val_accuracy: 0.9517 - val_loss: 0.1163\n",
      "Epoch 92/100\n",
      "\u001b[1m3706/3706\u001b[0m \u001b[32m━━━━━━━━━━━━━━━━━━━━\u001b[0m\u001b[37m\u001b[0m \u001b[1m2s\u001b[0m 435us/step - accuracy: 0.9515 - loss: 0.1231 - val_accuracy: 0.9504 - val_loss: 0.1227\n",
      "Epoch 93/100\n",
      "\u001b[1m3706/3706\u001b[0m \u001b[32m━━━━━━━━━━━━━━━━━━━━\u001b[0m\u001b[37m\u001b[0m \u001b[1m2s\u001b[0m 434us/step - accuracy: 0.9510 - loss: 0.1235 - val_accuracy: 0.9277 - val_loss: 0.1547\n",
      "Epoch 94/100\n",
      "\u001b[1m3706/3706\u001b[0m \u001b[32m━━━━━━━━━━━━━━━━━━━━\u001b[0m\u001b[37m\u001b[0m \u001b[1m2s\u001b[0m 444us/step - accuracy: 0.9529 - loss: 0.1202 - val_accuracy: 0.9616 - val_loss: 0.1098\n",
      "Epoch 95/100\n",
      "\u001b[1m3706/3706\u001b[0m \u001b[32m━━━━━━━━━━━━━━━━━━━━\u001b[0m\u001b[37m\u001b[0m \u001b[1m2s\u001b[0m 435us/step - accuracy: 0.9499 - loss: 0.1233 - val_accuracy: 0.9566 - val_loss: 0.1088\n",
      "Epoch 96/100\n",
      "\u001b[1m3706/3706\u001b[0m \u001b[32m━━━━━━━━━━━━━━━━━━━━\u001b[0m\u001b[37m\u001b[0m \u001b[1m2s\u001b[0m 439us/step - accuracy: 0.9504 - loss: 0.1244 - val_accuracy: 0.9529 - val_loss: 0.1154\n",
      "Epoch 97/100\n",
      "\u001b[1m3706/3706\u001b[0m \u001b[32m━━━━━━━━━━━━━━━━━━━━\u001b[0m\u001b[37m\u001b[0m \u001b[1m2s\u001b[0m 438us/step - accuracy: 0.9538 - loss: 0.1188 - val_accuracy: 0.9657 - val_loss: 0.1068\n",
      "Epoch 98/100\n",
      "\u001b[1m3706/3706\u001b[0m \u001b[32m━━━━━━━━━━━━━━━━━━━━\u001b[0m\u001b[37m\u001b[0m \u001b[1m2s\u001b[0m 427us/step - accuracy: 0.9515 - loss: 0.1228 - val_accuracy: 0.9430 - val_loss: 0.1349\n",
      "Epoch 99/100\n",
      "\u001b[1m3706/3706\u001b[0m \u001b[32m━━━━━━━━━━━━━━━━━━━━\u001b[0m\u001b[37m\u001b[0m \u001b[1m2s\u001b[0m 440us/step - accuracy: 0.9531 - loss: 0.1193 - val_accuracy: 0.9554 - val_loss: 0.1138\n",
      "Epoch 100/100\n",
      "\u001b[1m3706/3706\u001b[0m \u001b[32m━━━━━━━━━━━━━━━━━━━━\u001b[0m\u001b[37m\u001b[0m \u001b[1m2s\u001b[0m 432us/step - accuracy: 0.9515 - loss: 0.1219 - val_accuracy: 0.9574 - val_loss: 0.1115\n"
     ]
    }
   ],
   "source": [
    "# Ganti sesuai kebutuhan\n",
    "epochs = 100\n",
    "batch_size = 32\n",
    "\n",
    "history = model.fit(\n",
    "    xtrain,\n",
    "    ytrain,\n",
    "    epochs=epochs,\n",
    "    validation_data=(xtest, ytest),\n",
    "    batch_size=batch_size\n",
    ")"
   ]
  },
  {
   "cell_type": "markdown",
   "metadata": {},
   "source": [
    "## Manually Test Prediction"
   ]
  },
  {
   "cell_type": "code",
   "execution_count": 13,
   "metadata": {},
   "outputs": [
    {
     "name": "stdout",
     "output_type": "stream",
     "text": [
      "Testcase 0: Passed, confidence: 99.99%\n",
      "Testcase 1: Passed, confidence: 96.2%\n",
      "Testcase 2: Passed, confidence: 99.12%\n",
      "Testcase 3: Passed, confidence: 99.73%\n",
      "Testcase 4: Passed, confidence: 99.99%\n",
      "Testcase 5: Passed, confidence: 99.84%\n",
      "Testcase 6: Failed, expected: stunted got: severely stunted, confidence: 95.14%\n",
      "Testcase 7: Passed, confidence: 90.19%\n",
      "Testcase 8: Passed, confidence: 100.0%\n",
      "Testcase 9: Passed, confidence: 85.77%\n"
     ]
    }
   ],
   "source": [
    "manualTest = [\n",
    "    [[0, 0, 42.7434938911793],\"severely stunted\"],\n",
    "    [[0, 0, 58.493563524626], \"tinggi\"],\n",
    "    [[0, 0, 50.3967690206023],\"normal\"],\n",
    "    [[21, 1, 96.3],\"tinggi\"],\n",
    "    [[18, 0, 81.7],\"normal\"],\n",
    "    [[36, 0, 110.1],\"tinggi\"],\n",
    "    [[0, 0, 45.2517789938352],\"stunted\"],\n",
    "    [[41, 0, 89.5],\"stunted\"],\n",
    "    [[18, 1, 80.1],\"normal\"],\n",
    "    [[10, 1, 79.6],\"tinggi\"],\n",
    "]\n",
    "\n",
    "for i in range(len(manualTest)):\n",
    "    pred = np.array(manualTest[i][0]).reshape(1, -1)\n",
    "    pred_tensor = tf.convert_to_tensor(pred, dtype=tf.float32)\n",
    "    prediction = model.predict(pred_tensor, verbose=False)\n",
    "    index = np.argmax(prediction)\n",
    "    confidence = round(prediction[0][index] * 100, 2)\n",
    "    output = [\"severely stunted\", \"stunted\", \"normal\", \"tinggi\"][index]\n",
    "    if output == manualTest[i][1]:\n",
    "        print(f\"Testcase {i}: Passed, confidence: {confidence}%\")\n",
    "    else:\n",
    "        print(f\"Testcase {i}: Failed, expected: {manualTest[i][1]} got: {output}, confidence: {confidence}%\")"
   ]
  },
  {
   "cell_type": "markdown",
   "metadata": {},
   "source": [
    "## Evaluate The Model"
   ]
  },
  {
   "cell_type": "code",
   "execution_count": 14,
   "metadata": {},
   "outputs": [
    {
     "data": {
      "image/png": "[encoded data removed]",
      "text/plain": [
       "<Figure size 1200x500 with 2 Axes>"
      ]
     },
     "metadata": {},
     "output_type": "display_data"
    }
   ],
   "source": [
    "# Extract metrics from the history object\n",
    "epochs = range(1, len(history.history['accuracy']) + 1)\n",
    "train_acc = history.history['accuracy']\n",
    "val_acc = history.history['val_accuracy']\n",
    "train_loss = history.history['loss']\n",
    "val_loss = history.history['val_loss']\n",
    "\n",
    "# Plot accuracy\n",
    "plt.figure(figsize=(12, 5))\n",
    "\n",
    "plt.subplot(1, 2, 1)\n",
    "plt.plot(epochs, train_acc, 'b-', label='Training Accuracy')\n",
    "plt.plot(epochs, val_acc, 'r-', label='Validation Accuracy')\n",
    "plt.title('Training and Validation Accuracy')\n",
    "plt.xlabel('Epochs')\n",
    "plt.ylabel('Accuracy')\n",
    "plt.legend()\n",
    "\n",
    "# Plot loss\n",
    "plt.subplot(1, 2, 2)\n",
    "plt.plot(epochs, train_loss, 'b-', label='Training Loss')\n",
    "plt.plot(epochs, val_loss, 'r-', label='Validation Loss')\n",
    "plt.title('Training and Validation Loss')\n",
    "plt.xlabel('Epochs')\n",
    "plt.ylabel('Loss')\n",
    "plt.legend()\n",
    "\n",
    "plt.tight_layout()\n",
    "plt.show()"
   ]
  },
  {
   "cell_type": "markdown",
   "metadata": {},
   "source": [
    "## Save The Model"
   ]
  },
  {
   "cell_type": "code",
   "execution_count": 15,
   "metadata": {},
   "outputs": [],
   "source": [
    "fileName = \"StuntingClassificationModel\"\n",
    "folderName = \"model\"\n",
    "os.makedirs(os.path.join(os.getcwd(), folderName), exist_ok=True)\n",
    "model.save(os.path.join(os.getcwd(), folderName, fileName + \".keras\"))\n"
   ]
  }
 ],
 "metadata": {
  "kernelspec": {
   "display_name": "Python 3",
   "language": "python",
   "name": "python3"
  },
  "language_info": {
   "codemirror_mode": {
    "name": "ipython",
    "version": 3
   },
   "file_extension": ".py",
   "mimetype": "text/x-python",
   "name": "python",
   "nbconvert_exporter": "python",
   "pygments_lexer": "ipython3",
   "version": "3.12.6"
  }
 },
 "nbformat": 4,
 "nbformat_minor": 2
}
